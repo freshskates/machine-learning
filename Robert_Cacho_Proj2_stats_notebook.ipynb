{
  "nbformat": 4,
  "nbformat_minor": 2,
  "metadata": {
    "colab": {
      "name": "Proj2_stats_notebook.ipynb",
      "provenance": [],
      "collapsed_sections": []
    },
    "kernelspec": {
      "name": "python3",
      "display_name": "Python 3.8.11 64-bit ('ml': conda)"
    },
    "language_info": {
      "name": "python",
      "version": "3.8.11",
      "mimetype": "text/x-python",
      "codemirror_mode": {
        "name": "ipython",
        "version": 3
      },
      "pygments_lexer": "ipython3",
      "nbconvert_exporter": "python",
      "file_extension": ".py"
    },
    "interpreter": {
      "hash": "ea659551c94e02044430b783439fae01bf5f5b1bb469ad51edc4700e9fdff370"
    }
  },
  "cells": [
    {
      "cell_type": "markdown",
      "source": [
        "## Instructions\n",
        "\n",
        "Please make a copy and rename it with your name (ex: Proj6_Ilmi_Yoon). All grading points should be explored in the notebook but some can be done in a separate pdf file. \n",
        "\n",
        "*Graded questions will be listed with \"Q:\" followed by the corresponding points.* \n",
        "\n",
        "You will be submitting **a pdf** file containing **the url of your own proj6.**\n",
        "\n",
        "\n",
        "---"
      ],
      "metadata": {
        "id": "B5BwydUSUwMI"
      }
    },
    {
      "cell_type": "markdown",
      "source": [
        "**Hypothesis testing**\n",
        "===\n",
        "\n",
        "**Outline**\n",
        "\n",
        "At the end of this week, you will be a pro at:\n",
        "- **hypothesis testing** \n",
        "  *  is there something interesting/meaningful going on in my data?\n",
        "    - one-sample t-test\n",
        "    - two-sample t-test\n",
        "- **correcting for multiple testing**\n",
        "  *  doing thousands of hypothesis tests at a time will increase your likelihood of incorrect conclusions\n",
        "  *  you'll learn how to account for that\n",
        "- **false discovery rates**\n",
        "  *  you could be a perfectionist (\"even one wrong conclusion is the worst\"), aka family-wise error rate (FWER) \n",
        "  *  or become a pragmatic (\"of my significant discoveries, i expect x% of them to be false positives.\"), aka false discovery rate (FDR)\n",
        "- **permutation tests**\n",
        "  *  if your assumptions about your data are wrong, you may over/underestimate your confidence in your conclusions\n",
        "  *  assume as little as possible about the data with a permutation test\n",
        "\n",
        "\n"
      ],
      "metadata": {
        "id": "CDkeefJmU1eo"
      }
    },
    {
      "cell_type": "markdown",
      "source": [
        "**Examples**\n",
        "\n",
        "In class, we will talk about 3 examples:\n",
        "- confidence intervals\n",
        "  - how much time do Americans spend on average per day on Netflix? \n",
        "\n",
        "- one-sample t-test \n",
        "  - do Americans spend more time on average per day on Netflix compared to before the pandemic?\n",
        "\n",
        "- two-sample t-test \n",
        "  - does exercise affect baseline blood pressure? \n",
        "  \n",
        "\n",
        "\n",
        "**Your project**\n",
        "- RNA sequencing: which genes differentiate the different immune cells in your blood?\n",
        "  - two-sample t-test\n",
        "  - multiple testing correction\n",
        "\n",
        "\n",
        "\n"
      ],
      "metadata": {
        "id": "W060VxUSEEww"
      }
    },
    {
      "cell_type": "markdown",
      "source": [
        "**How do you make the best of this week?**\n",
        "- start seeing all statistics reported around you, and think of how they relate to what we have learned. \n",
        "- do rigorous statistics in your work from now on"
      ],
      "metadata": {
        "id": "sDIvIz8FExOS"
      }
    },
    {
      "cell_type": "markdown",
      "source": [
        "**LET'S BEGIN!**\n",
        "\n",
        "==============================================================="
      ],
      "metadata": {
        "id": "oc9sI2hjFOv-"
      }
    },
    {
      "cell_type": "code",
      "execution_count": null,
      "source": [
        "#import python packages\r\n",
        "\r\n",
        "import numpy as np\r\n",
        "import scipy as sp\r\n",
        "import scipy.stats as st\r\n",
        "import pandas as pd\r\n",
        "import seaborn as sns\r\n",
        "import matplotlib.pyplot as plt"
      ],
      "outputs": [],
      "metadata": {
        "id": "mf4OMECoWUyy"
      }
    },
    {
      "cell_type": "code",
      "execution_count": null,
      "source": [
        "rng=np.random.RandomState(1234) #this will ensure the reproducibility of the notebook"
      ],
      "outputs": [],
      "metadata": {
        "id": "hrHhGEGUiTPB"
      }
    },
    {
      "cell_type": "markdown",
      "source": [
        "**EXAMPLE I:** \n",
        "===\n",
        "\n",
        "How much time do subscribers spend on average each day on Netflix?\n",
        "--\n",
        "\n",
        "Example discussed in class (Lecture 1). The data we are working with are simulated, but the mean time spent on Netflix is inspired by https://www.pcmag.com/news/us-netflix-subscribers-watch-32-hours-and-use-96-gb-of-data-per-day (average of 3.2 hours for subscribers).\n",
        "\n",
        "\n"
      ],
      "metadata": {
        "id": "0kCwywmv1hJ3"
      }
    },
    {
      "cell_type": "code",
      "execution_count": null,
      "source": [
        "#Summarizing data\r\n",
        "#================\r\n",
        "population=np.array([1,1.8,2,3.2,3.3,4,4,4.2])\r\n",
        "our_sample=np.array([2,3.2,4])\r\n",
        "\r\n",
        "#means\r\n",
        "population_mean=np.mean(population)\r\n",
        "print('Population mean',population_mean.round(2))\r\n",
        "\r\n",
        "sample_mean=np.mean(our_sample)\r\n",
        "print('- Sample mean',sample_mean.round(2))\r\n",
        "\r\n",
        "#standard deviations\r\n",
        "population_sd=np.std(population)\r\n",
        "print('Population standard deviation',population_sd.round(2))\r\n",
        "#biased sample sd\r\n",
        "biased_sample_sd=np.sqrt((np.power(our_sample-sample_mean,2).sum())/our_sample.shape[0])\r\n",
        "print('- Biased sample standard deviation',biased_sample_sd.round(2))\r\n",
        "#unbiased sample sd\r\n",
        "unbiased_sample_sd=np.sqrt((np.power(our_sample-sample_mean,2).sum())/(our_sample.shape[0]-1))\r\n",
        "print('- Unbiased sample standard deviation',unbiased_sample_sd.round(2))\r\n",
        "\r\n",
        "plt.hist(population,range(0,6),color='black')\r\n",
        "plt.yticks([0,1,2])\r\n",
        "plt.xlabel('Number of hours spent\\nper day on Netflix')\r\n",
        "plt.ylabel('Number of observations')\r\n",
        "plt.show()"
      ],
      "outputs": [
        {
          "output_type": "stream",
          "name": "stdout",
          "text": [
            "Population mean 2.94\n",
            "- Sample mean 3.07\n",
            "Population standard deviation 1.12\n",
            "- Biased sample standard deviation 0.82\n",
            "- Unbiased sample standard deviation 1.01\n"
          ]
        },
        {
          "output_type": "display_data",
          "data": {
            "image/png": "[encoded data removed]",
            "text/plain": [
              "<Figure size 432x288 with 1 Axes>"
            ]
          },
          "metadata": {
            "needs_background": "light"
          }
        }
      ],
      "metadata": {
        "colab": {
          "base_uri": "https://localhost:8080/",
          "height": 378
        },
        "id": "SdUAfFDf185T",
        "outputId": "9af36c44-62d8-473b-8442-d0328be3e82c"
      }
    },
    {
      "cell_type": "code",
      "execution_count": null,
      "source": [
        "#larger example\r\n",
        "\r\n",
        "MEAN_NETFLIX=3.2\r\n",
        "SD_NETFLIX=1\r\n",
        "population=rng.normal(loc=MEAN_NETFLIX, \r\n",
        "                            scale=SD_NETFLIX, \r\n",
        "                            size=1000)\r\n",
        "population[population<0]=0\r\n",
        "our_sample=population[0:100]\r\n",
        "\r\n",
        "#means\r\n",
        "population_mean=np.mean(population)\r\n",
        "print('Population mean',population_mean.round(2))\r\n",
        "\r\n",
        "sample_mean=np.mean(our_sample)\r\n",
        "print('- Sample mean',sample_mean.round(2))\r\n",
        "\r\n",
        "#standard deviations\r\n",
        "population_sd=np.std(population)\r\n",
        "print('Population standard deviation',population_sd.round(2))\r\n",
        "#biased sample sd\r\n",
        "biased_sample_sd=np.sqrt((np.power(our_sample-sample_mean,2).sum())/our_sample.shape[0])\r\n",
        "print('- Biased sample standard deviation',biased_sample_sd.round(2))\r\n",
        "#unbiased sample sd\r\n",
        "unbiased_sample_sd=np.sqrt((np.power(our_sample-sample_mean,2).sum())/(our_sample.shape[0]-1))\r\n",
        "print('- Unbiased sample standard deviation',unbiased_sample_sd.round(2))"
      ],
      "outputs": [
        {
          "output_type": "stream",
          "name": "stdout",
          "text": [
            "Population mean 3.22\n",
            "- Sample mean 3.24\n",
            "Population standard deviation 0.97\n",
            "- Biased sample standard deviation 0.98\n",
            "- Unbiased sample standard deviation 0.99\n"
          ]
        }
      ],
      "metadata": {
        "colab": {
          "base_uri": "https://localhost:8080/"
        },
        "id": "KSPSqEdj4TTO",
        "outputId": "ee6756c9-b489-4e6a-8e4d-0211a22447bf"
      }
    },
    {
      "cell_type": "code",
      "execution_count": null,
      "source": [
        "#representing sets of datapoints\r\n",
        "#===============================\r\n",
        "\r\n",
        "#histograms\r\n",
        "plt.hist(population,[x*0.6 for x in range(10)],color='lightgray',edgecolor='black')\r\n",
        "plt.xlabel('Number of hours spent on Netflix\\nper day',fontsize=15)\r\n",
        "plt.ylabel('Number of respondents',fontsize=15)\r\n",
        "plt.xlim(0,6)\r\n",
        "plt.show()\r\n",
        "\r\n",
        "plt.hist(our_sample,[x*0.6 for x in range(10)],color='lightblue',edgecolor='black')\r\n",
        "plt.xlabel('Number of hours spent on Netflix\\nper day',fontsize=15)\r\n",
        "plt.ylabel('Number of respondents',fontsize=15)\r\n",
        "plt.xlim(0,6)\r\n",
        "plt.show()\r\n",
        "\r\n",
        "#densities\r\n",
        "sns.distplot(population, hist=True, kde=True, \r\n",
        "             bins=[x*0.6 for x in range(10)], color = 'black', \r\n",
        "             hist_kws={'edgecolor':'black','color':'black'},\r\n",
        "             kde_kws={'linewidth': 4})\r\n",
        "plt.xlabel('Number of hours spent on Netflix\\nper day',fontsize=15)\r\n",
        "plt.ylabel('Density',fontsize=15)\r\n",
        "plt.xlim(0,6)\r\n",
        "plt.show()\r\n",
        "\r\n",
        "sns.distplot(our_sample, hist=True, kde=True, \r\n",
        "             bins=[x*0.6 for x in range(10)], color = 'blue', \r\n",
        "             hist_kws={'edgecolor':'black','color':'lightblue'},\r\n",
        "             kde_kws={'linewidth': 4})\r\n",
        "plt.xlabel('Number of hours spent on Netflix\\nper day',fontsize=15)\r\n",
        "plt.ylabel('Density',fontsize=15)\r\n",
        "plt.xlim(0,6)\r\n",
        "plt.show()\r\n",
        "#put both data in the same plot\r\n",
        "fig,plots=plt.subplots(1)\r\n",
        "sns.distplot(population, hist=False, kde=True, \r\n",
        "             bins=[x*0.6 for x in range(10)], color = 'black', \r\n",
        "             hist_kws={'edgecolor':'black','color':'black'},\r\n",
        "             kde_kws={'linewidth': 4},ax=plots)\r\n",
        "plots.set_xlim(0,6)\r\n",
        "sns.distplot(our_sample, hist=False, kde=True, \r\n",
        "             bins=[x*0.6 for x in range(10)], color = 'blue', \r\n",
        "             hist_kws={'edgecolor':'black','color':'black'},\r\n",
        "             kde_kws={'linewidth': 4},ax=plots)\r\n",
        "plots.set_xlabel('Number of hours spent on Netflix\\nper day',fontsize=15)\r\n",
        "plots.set_ylabel('Density',fontsize=15)\r\n",
        "x = plots.lines[-1].get_xdata()\r\n",
        "y = plots.lines[-1].get_ydata()\r\n",
        "plots.fill_between(x, 0, y, where=x < 2, color='lightblue', alpha=0.3)\r\n",
        "plt.xlim(0,6)\r\n",
        "plt.show()\r\n",
        "\r\n"
      ],
      "outputs": [
        {
          "output_type": "display_data",
          "data": {
            "image/png": "[encoded data removed]",
            "text/plain": [
              "<Figure size 432x288 with 1 Axes>"
            ]
          },
          "metadata": {
            "needs_background": "light"
          }
        },
        {
          "output_type": "display_data",
          "data": {
            "image/png": "[encoded data removed]",
            "text/plain": [
              "<Figure size 432x288 with 1 Axes>"
            ]
          },
          "metadata": {
            "needs_background": "light"
          }
        },
        {
          "output_type": "stream",
          "name": "stderr",
          "text": [
            "C:\\Users\\freshskates\\.conda\\envs\\ml\\lib\\site-packages\\seaborn\\distributions.py:2619: FutureWarning: `distplot` is a deprecated function and will be removed in a future version. Please adapt your code to use either `displot` (a figure-level function with similar flexibility) or `histplot` (an axes-level function for histograms).\n",
            "  warnings.warn(msg, FutureWarning)\n"
          ]
        },
        {
          "output_type": "display_data",
          "data": {
            "image/png": "[encoded data removed]",
            "text/plain": [
              "<Figure size 432x288 with 1 Axes>"
            ]
          },
          "metadata": {
            "needs_background": "light"
          }
        },
        {
          "output_type": "stream",
          "name": "stderr",
          "text": [
            "C:\\Users\\freshskates\\.conda\\envs\\ml\\lib\\site-packages\\seaborn\\distributions.py:2619: FutureWarning: `distplot` is a deprecated function and will be removed in a future version. Please adapt your code to use either `displot` (a figure-level function with similar flexibility) or `histplot` (an axes-level function for histograms).\n",
            "  warnings.warn(msg, FutureWarning)\n"
          ]
        },
        {
          "output_type": "display_data",
          "data": {
            "image/png": "[encoded data removed]",
            "text/plain": [
              "<Figure size 432x288 with 1 Axes>"
            ]
          },
          "metadata": {
            "needs_background": "light"
          }
        },
        {
          "output_type": "stream",
          "name": "stderr",
          "text": [
            "C:\\Users\\freshskates\\.conda\\envs\\ml\\lib\\site-packages\\seaborn\\distributions.py:2619: FutureWarning: `distplot` is a deprecated function and will be removed in a future version. Please adapt your code to use either `displot` (a figure-level function with similar flexibility) or `kdeplot` (an axes-level function for kernel density plots).\n",
            "  warnings.warn(msg, FutureWarning)\n",
            "C:\\Users\\freshskates\\.conda\\envs\\ml\\lib\\site-packages\\seaborn\\distributions.py:2619: FutureWarning: `distplot` is a deprecated function and will be removed in a future version. Please adapt your code to use either `displot` (a figure-level function with similar flexibility) or `kdeplot` (an axes-level function for kernel density plots).\n",
            "  warnings.warn(msg, FutureWarning)\n"
          ]
        },
        {
          "output_type": "display_data",
          "data": {
            "image/png": "[encoded data removed]",
            "text/plain": [
              "<Figure size 432x288 with 1 Axes>"
            ]
          },
          "metadata": {
            "needs_background": "light"
          }
        }
      ],
      "metadata": {
        "colab": {
          "base_uri": "https://localhost:8080/",
          "height": 1000
        },
        "id": "uh0DWJRc7Gvo",
        "outputId": "ac30c165-d36f-40e8-9efa-93aa8b2bb1e0"
      }
    },
    {
      "cell_type": "code",
      "execution_count": null,
      "source": [
        "\r\n",
        "#put both data in the same plot\r\n",
        "fig,plots=plt.subplots(1)\r\n",
        "sns.distplot(population, hist=False, kde=True, \r\n",
        "             bins=[x*0.6 for x in range(10)], color = 'black', \r\n",
        "             hist_kws={'edgecolor':'black','color':'black'},\r\n",
        "             kde_kws={'linewidth': 4},ax=plots)\r\n",
        "plots.set_xlim(0,6)\r\n",
        "x = plots.lines[-1].get_xdata()\r\n",
        "y = plots.lines[-1].get_ydata()\r\n",
        "plots.fill_between(x, 0, y, where=(x < 4) & (x>2), color='gray', alpha=0.3)\r\n",
        "plt.xlim(0,6)\r\n",
        "plots.set_xlabel('Number of hours spent on Netflix\\nper day',fontsize=15)\r\n",
        "plots.set_ylabel('Density',fontsize=15)\r\n",
        "plt.show()\r\n",
        "\r\n",
        "np.multiply((population<=4),(population>=2)).sum()/population.shape[0]"
      ],
      "outputs": [
        {
          "output_type": "stream",
          "name": "stderr",
          "text": [
            "C:\\Users\\freshskates\\.conda\\envs\\ml\\lib\\site-packages\\seaborn\\distributions.py:2619: FutureWarning: `distplot` is a deprecated function and will be removed in a future version. Please adapt your code to use either `displot` (a figure-level function with similar flexibility) or `kdeplot` (an axes-level function for kernel density plots).\n",
            "  warnings.warn(msg, FutureWarning)\n"
          ]
        },
        {
          "output_type": "display_data",
          "data": {
            "image/png": "[encoded data removed]",
            "text/plain": [
              "<Figure size 432x288 with 1 Axes>"
            ]
          },
          "metadata": {
            "needs_background": "light"
          }
        },
        {
          "output_type": "execute_result",
          "data": {
            "text/plain": [
              "0.695"
            ]
          },
          "metadata": {},
          "execution_count": 6
        }
      ],
      "metadata": {
        "colab": {
          "base_uri": "https://localhost:8080/",
          "height": 374
        },
        "id": "fJ4sqUMzbqqS",
        "outputId": "feb73f9e-7c8d-48f2-b20f-ffe9967daf4c"
      }
    },
    {
      "cell_type": "code",
      "execution_count": null,
      "source": [
        "#brute force confidence interval\r\n",
        "N_POPULATION=10000\r\n",
        "N_SAMPLE=1000\r\n",
        "population=np.random.normal(loc=MEAN_NETFLIX, \r\n",
        "                            scale=SD_NETFLIX, \r\n",
        "                            size=N_POPULATION)\r\n",
        "population[population<0]=0\r\n",
        "sample_means=[]\r\n",
        "for i in range(N_SAMPLE):\r\n",
        "  sample_i=np.random.choice(population,10)\r\n",
        "  mean_i=np.mean(sample_i)\r\n",
        "  sample_means.append(mean_i)\r\n",
        "sample_means=np.array(sample_means)\r\n",
        "\r\n",
        "#sd of the mean\r\n",
        "means_mean=np.mean(sample_means)\r\n",
        "means_sd=np.std(sample_means)\r\n",
        "print('Mean of the means',means_mean)\r\n",
        "print('SEM (SD of the means)',means_sd)\r\n",
        "\r\n",
        "\r\n",
        "plt.hist(sample_means,100,color='red')\r\n",
        "plt.xlabel('Number of hours spent on Netflix\\nper day\\nMEANS OF SAMPLES')\r\n",
        "plt.xlim(0,6)\r\n",
        "plt.axvline(x=means_mean,color='black')\r\n",
        "plt.axvline(x=means_mean-means_sd,color='black',linestyle='--')\r\n",
        "plt.axvline(x=means_mean+means_sd,color='black',linestyle='--')\r\n",
        "plt.show()\r\n",
        "\r\n",
        "#compute what fraction of points are within 1 means_sd from means_mean\r\n",
        "within_1sd=0\r\n",
        "within_2sd=0\r\n",
        "for i in range(sample_means.shape[0]):\r\n",
        "  m=sample_means[i]\r\n",
        "  if m>=(means_mean-means_sd) and m<=(means_mean+means_sd):\r\n",
        "    within_1sd+=1\r\n",
        "  if m>=(means_mean-2*means_sd) and m<=(means_mean+2*means_sd):\r\n",
        "    within_2sd+=1\r\n",
        "print('within 1 means SD:',within_1sd/sample_means.shape[0])\r\n",
        "print('within 1 means SD:',within_2sd/sample_means.shape[0])"
      ],
      "outputs": [
        {
          "output_type": "stream",
          "name": "stdout",
          "text": [
            "Mean of the means 3.1934702093436456\n",
            "SEM (SD of the means) 0.3191115562654143\n"
          ]
        },
        {
          "output_type": "display_data",
          "data": {
            "image/png": "[encoded data removed]",
            "text/plain": [
              "<Figure size 432x288 with 1 Axes>"
            ]
          },
          "metadata": {
            "needs_background": "light"
          }
        },
        {
          "output_type": "stream",
          "name": "stdout",
          "text": [
            "within 1 means SD: 0.691\n",
            "within 1 means SD: 0.955\n"
          ]
        }
      ],
      "metadata": {
        "colab": {
          "base_uri": "https://localhost:8080/",
          "height": 372
        },
        "id": "QRMqdsV4UE4-",
        "outputId": "f297e9f4-7368-489f-c2d7-ef0a100680a4"
      }
    },
    {
      "cell_type": "code",
      "execution_count": null,
      "source": [
        "from scipy import stats\r\n",
        "print('SEM (SD of the means), empirically calculated',means_sd.round(2))\r\n",
        "print('SEM computed in python',stats.sem(sample_i).round(2))\r\n"
      ],
      "outputs": [
        {
          "output_type": "stream",
          "name": "stdout",
          "text": [
            "SEM (SD of the means), empirically calculated 0.32\n",
            "SEM computed in python 0.34\n"
          ]
        }
      ],
      "metadata": {
        "colab": {
          "base_uri": "https://localhost:8080/"
        },
        "id": "NQ8_eFECX27f",
        "outputId": "0dc89b0a-10e9-4ab9-e64c-80be7defa342"
      }
    },
    {
      "cell_type": "code",
      "execution_count": null,
      "source": [
        "#one sample t test in python\r\n",
        "from scipy.stats import ttest_1samp\r\n",
        "\r\n",
        "MEAN_NETFLIX=3.2\r\n",
        "SD_NETFLIX=1\r\n",
        "population=rng.normal(loc=MEAN_NETFLIX, \r\n",
        "                            scale=SD_NETFLIX, \r\n",
        "                            size=1000)\r\n",
        "population[population<0]=0\r\n",
        "our_sample=population[0:10]\r\n",
        "print(our_sample.round(2))\r\n",
        "print(our_sample.mean())\r\n",
        "print(our_sample.std())\r\n",
        "\r\n",
        "TEST_VALUE=1.5\r\n",
        "\r\n",
        "t, pvalue = ttest_1samp(our_sample, popmean=TEST_VALUE)\r\n",
        "print('t', t.round(2))  \r\n",
        "print('p-value', pvalue.round(6))"
      ],
      "outputs": [
        {
          "output_type": "stream",
          "name": "stdout",
          "text": [
            "[1.62 1.58 3.25 1.52 4.6  2.36 4.01 3.15 3.73 2.39]\n",
            "2.8206757978474783\n",
            "1.0381608736065147\n",
            "t 3.82\n",
            "p-value 0.004113\n"
          ]
        }
      ],
      "metadata": {
        "colab": {
          "base_uri": "https://localhost:8080/"
        },
        "id": "3L90s1QxX2-T",
        "outputId": "8cd48ac2-34f3-4189-b313-b956e4ebaf52"
      }
    },
    {
      "cell_type": "code",
      "execution_count": null,
      "source": [
        "#confidence intervals\r\n",
        "#=====================\r\n",
        "#take 100 samples\r\n",
        "#compute their confidence intervals\r\n",
        "#plot them\r\n",
        "\r\n",
        "import scipy.stats as st\r\n",
        "\r\n",
        "N_SAMPLE=200\r\n",
        "for CONFIDENCE in [0.9,0.98,0.999999]:\r\n",
        "  population=rng.normal(loc=MEAN_NETFLIX, \r\n",
        "                              scale=SD_NETFLIX, \r\n",
        "                              size=N_POPULATION)\r\n",
        "  population[population<0]=0\r\n",
        "  sample_means=[]\r\n",
        "  ci_lows=[]\r\n",
        "  ci_highs=[]\r\n",
        "  for i in range(N_SAMPLE):\r\n",
        "    sample_i=np.random.choice(population,10)\r\n",
        "    mean_i=np.mean(sample_i)\r\n",
        "    ci=st.t.interval(alpha=CONFIDENCE, \r\n",
        "                  df=sample_i.shape[0]-1, loc=mean_i, scale=st.sem(sample_i))\r\n",
        "    ci_lows.append(ci[0])\r\n",
        "    ci_highs.append(ci[1])\r\n",
        "    sample_means.append(mean_i)\r\n",
        "\r\n",
        "  data=pd.DataFrame({'mean':sample_means,'ci_low':ci_lows,'ci_high':ci_highs})\r\n",
        "  data=data.sort_values(by='mean')\r\n",
        "  data.index=range(N_SAMPLE)\r\n",
        "  print(data)\r\n",
        "\r\n",
        "  for i in range(N_SAMPLE):\r\n",
        "    color='gray'\r\n",
        "    if MEAN_NETFLIX>data['ci_high'][i] or MEAN_NETFLIX<data['ci_low'][i]:\r\n",
        "      color='red'\r\n",
        "    plt.plot((data['ci_low'][i],data['ci_high'][i]),(i,i),color=color)\r\n",
        "  #plt.scatter(data['mean'],range(N_SAMPLE),color='black')\r\n",
        "  plt.axvline(x=MEAN_NETFLIX,color='black',linestyle='--')\r\n",
        "  plt.xlabel('Mean time spent on Netflix')\r\n",
        "  plt.ylabel('Sampling iteration')\r\n",
        "  plt.xlim(0,10)\r\n",
        "  plt.show()"
      ],
      "outputs": [
        {
          "output_type": "stream",
          "name": "stdout",
          "text": [
            "         mean    ci_low   ci_high\n",
            "0    2.328428  1.865753  2.791103\n",
            "1    2.380752  1.843621  2.917883\n",
            "2    2.447427  1.780282  3.114572\n",
            "3    2.563095  2.087869  3.038322\n",
            "4    2.631692  2.047800  3.215584\n",
            "..        ...       ...       ...\n",
            "195  3.897081  3.015483  4.778678\n",
            "196  3.908490  3.559905  4.257074\n",
            "197  3.961320  3.316092  4.606547\n",
            "198  3.977324  3.158234  4.796413\n",
            "199  4.137394  3.541674  4.733114\n",
            "\n",
            "[200 rows x 3 columns]\n"
          ]
        },
        {
          "output_type": "display_data",
          "data": {
            "image/png": "[encoded data removed]",
            "text/plain": [
              "<Figure size 432x288 with 1 Axes>"
            ]
          },
          "metadata": {
            "needs_background": "light"
          }
        },
        {
          "output_type": "stream",
          "name": "stdout",
          "text": [
            "         mean    ci_low   ci_high\n",
            "0    2.318978  1.580809  3.057146\n",
            "1    2.430553  1.793797  3.067308\n",
            "2    2.475023  1.695193  3.254853\n",
            "3    2.548311  1.960705  3.135917\n",
            "4    2.583728  1.703060  3.464396\n",
            "..        ...       ...       ...\n",
            "195  3.709560  2.819826  4.599293\n",
            "196  3.732506  2.676068  4.788944\n",
            "197  3.754875  3.003671  4.506080\n",
            "198  3.821923  2.955343  4.688503\n",
            "199  3.906947  3.354566  4.459329\n",
            "\n",
            "[200 rows x 3 columns]\n"
          ]
        },
        {
          "output_type": "display_data",
          "data": {
            "image/png": "[encoded data removed]",
            "text/plain": [
              "<Figure size 432x288 with 1 Axes>"
            ]
          },
          "metadata": {
            "needs_background": "light"
          }
        },
        {
          "output_type": "stream",
          "name": "stdout",
          "text": [
            "         mean    ci_low   ci_high\n",
            "0    2.347553 -1.020181  5.715287\n",
            "1    2.355173 -1.011797  5.722143\n",
            "2    2.362178  0.218468  4.505887\n",
            "3    2.540719 -0.387778  5.469216\n",
            "4    2.565804 -1.268146  6.399754\n",
            "..        ...       ...       ...\n",
            "195  3.997658 -0.007817  8.003134\n",
            "196  4.017859  0.452532  7.583186\n",
            "197  4.145070  0.530175  7.759964\n",
            "198  4.153907  0.616938  7.690877\n",
            "199  4.254791  1.471988  7.037594\n",
            "\n",
            "[200 rows x 3 columns]\n"
          ]
        },
        {
          "output_type": "display_data",
          "data": {
            "image/png": "[encoded data removed]",
            "text/plain": [
              "<Figure size 432x288 with 1 Axes>"
            ]
          },
          "metadata": {
            "needs_background": "light"
          }
        }
      ],
      "metadata": {
        "colab": {
          "base_uri": "https://localhost:8080/",
          "height": 1000
        },
        "id": "zCilaeTkwnJX",
        "outputId": "d1bb661d-b37e-4145-c842-01d68b073252"
      }
    },
    {
      "cell_type": "code",
      "execution_count": null,
      "source": [
        "#confidence intervals\r\n",
        "#=====================\r\n",
        "#take 100 samples\r\n",
        "#compute their confidence intervals\r\n",
        "#plot them\r\n",
        "\r\n",
        "import scipy.stats as st\r\n",
        "\r\n",
        "N_SAMPLE=200\r\n",
        "for CONFIDENCE in [0.9,0.98,0.999999]:\r\n",
        "  population=rng.normal(loc=MEAN_NETFLIX, \r\n",
        "                              scale=SD_NETFLIX, \r\n",
        "                              size=N_POPULATION)\r\n",
        "  population[population<0]=0\r\n",
        "  sample_means=[]\r\n",
        "  ci_lows=[]\r\n",
        "  ci_highs=[]\r\n",
        "  for i in range(N_SAMPLE):\r\n",
        "    sample_i=np.random.choice(population,100)\r\n",
        "    mean_i=np.mean(sample_i)\r\n",
        "    ci=st.t.interval(alpha=CONFIDENCE, \r\n",
        "                  df=sample_i.shape[0]-1, loc=mean_i, scale=st.sem(sample_i))\r\n",
        "    ci_lows.append(ci[0])\r\n",
        "    ci_highs.append(ci[1])\r\n",
        "    sample_means.append(mean_i)\r\n",
        "\r\n",
        "  data=pd.DataFrame({'mean':sample_means,'ci_low':ci_lows,'ci_high':ci_highs})\r\n",
        "  data=data.sort_values(by='mean')\r\n",
        "  data.index=range(N_SAMPLE)\r\n",
        "  print(data)\r\n",
        "\r\n",
        "  for i in range(N_SAMPLE):\r\n",
        "    color='gray'\r\n",
        "    if MEAN_NETFLIX>data['ci_high'][i] or MEAN_NETFLIX<data['ci_low'][i]:\r\n",
        "      color='red'\r\n",
        "    plt.plot((data['ci_low'][i],data['ci_high'][i]),(i,i),color=color)\r\n",
        "  #plt.scatter(data['mean'],range(N_SAMPLE),color='black')\r\n",
        "  plt.axvline(x=MEAN_NETFLIX,color='black',linestyle='--')\r\n",
        "  plt.xlabel('Mean time spent on Netflix')\r\n",
        "  plt.ylabel('Sampling iteration')\r\n",
        "  plt.xlim(0,10)\r\n",
        "  plt.show()"
      ],
      "outputs": [
        {
          "output_type": "stream",
          "name": "stdout",
          "text": [
            "         mean    ci_low   ci_high\n",
            "0    2.892338  2.733312  3.051364\n",
            "1    2.895408  2.729131  3.061684\n",
            "2    2.946665  2.799507  3.093822\n",
            "3    2.957376  2.781855  3.132897\n",
            "4    2.968571  2.784393  3.152748\n",
            "..        ...       ...       ...\n",
            "195  3.427391  3.250704  3.604077\n",
            "196  3.431677  3.258160  3.605194\n",
            "197  3.434345  3.274334  3.594356\n",
            "198  3.450142  3.279478  3.620806\n",
            "199  3.476758  3.310008  3.643508\n",
            "\n",
            "[200 rows x 3 columns]\n"
          ]
        },
        {
          "output_type": "display_data",
          "data": {
            "image/png": "[encoded data removed]",
            "text/plain": [
              "<Figure size 432x288 with 1 Axes>"
            ]
          },
          "metadata": {
            "needs_background": "light"
          }
        },
        {
          "output_type": "stream",
          "name": "stdout",
          "text": [
            "         mean    ci_low   ci_high\n",
            "0    2.909873  2.687474  3.132271\n",
            "1    2.919201  2.683636  3.154766\n",
            "2    2.925977  2.695830  3.156123\n",
            "3    2.936222  2.696811  3.175632\n",
            "4    2.946830  2.707480  3.186180\n",
            "..        ...       ...       ...\n",
            "195  3.384757  3.111810  3.657704\n",
            "196  3.390526  3.145545  3.635507\n",
            "197  3.394204  3.176742  3.611667\n",
            "198  3.418518  3.160307  3.676730\n",
            "199  3.462979  3.229855  3.696102\n",
            "\n",
            "[200 rows x 3 columns]\n"
          ]
        },
        {
          "output_type": "display_data",
          "data": {
            "image/png": "[encoded data removed]",
            "text/plain": [
              "<Figure size 432x288 with 1 Axes>"
            ]
          },
          "metadata": {
            "needs_background": "light"
          }
        },
        {
          "output_type": "stream",
          "name": "stdout",
          "text": [
            "         mean    ci_low   ci_high\n",
            "0    2.952725  2.452340  3.453111\n",
            "1    2.968428  2.367909  3.568948\n",
            "2    2.972270  2.435711  3.508829\n",
            "3    2.972914  2.454779  3.491048\n",
            "4    2.973136  2.410013  3.536258\n",
            "..        ...       ...       ...\n",
            "195  3.400006  2.936676  3.863336\n",
            "196  3.404630  2.858143  3.951117\n",
            "197  3.429935  2.893505  3.966365\n",
            "198  3.442247  2.980014  3.904480\n",
            "199  3.449092  2.954778  3.943406\n",
            "\n",
            "[200 rows x 3 columns]\n"
          ]
        },
        {
          "output_type": "display_data",
          "data": {
            "image/png": "[encoded data removed]",
            "text/plain": [
              "<Figure size 432x288 with 1 Axes>"
            ]
          },
          "metadata": {
            "needs_background": "light"
          }
        }
      ],
      "metadata": {
        "colab": {
          "base_uri": "https://localhost:8080/",
          "height": 1000
        },
        "id": "u7bCgQHu5TwO",
        "outputId": "1d403aed-e5df-4fcc-9dc2-5bdeb4c5ea25"
      }
    },
    {
      "cell_type": "markdown",
      "source": [
        "**EXAMPLE II:** \n",
        "===\n",
        "\n",
        "Is exercise associated with lower baseline blood pressure?\n",
        "--\n",
        "\n",
        "We will simulate data with control mean 120 mmHg, treatment mean 116 mmHg and population sd 5 for both conditions."
      ],
      "metadata": {
        "id": "s-zIgbHycxdj"
      }
    },
    {
      "cell_type": "code",
      "execution_count": null,
      "source": [
        "#simulate dataset\r\n",
        "#=====================\r\n",
        "\r\n",
        "def sample_condition_values(condition_mean,\r\n",
        "                           condition_var,\r\n",
        "                       condition_N,\r\n",
        "                       condition=''):\r\n",
        "    \r\n",
        "  condition_values=np.random.normal(loc = condition_mean, \r\n",
        "                                    scale=condition_var,\r\n",
        "                                    size = condition_N)\r\n",
        "\r\n",
        "  data_condition_here=pd.DataFrame({'BP':condition_values,\r\n",
        "                   'condition':condition})\r\n",
        "  return(data_condition_here)\r\n",
        "\r\n",
        "#=========================================================================\r\n",
        "N_per_condition=10\r\n",
        "ctrl_mean=120\r\n",
        "test_mean=116 \r\n",
        "v=5\r\n",
        "\r\n",
        "np.random.seed(1)\r\n",
        "\r\n",
        "data_ctrl=sample_condition_values(condition_mean=ctrl_mean,\r\n",
        "                       condition_N=N_per_condition,\r\n",
        "                       condition_var=v,\r\n",
        "                       condition='couch')\r\n",
        "\r\n",
        "data_test=sample_condition_values(condition_mean=test_mean,\r\n",
        "                       condition_N=N_per_condition,\r\n",
        "                       condition_var=v,\r\n",
        "                       condition='exercise')\r\n",
        "\r\n",
        "data=pd.concat([data_ctrl,data_test],axis=0)\r\n",
        "print(data)"
      ],
      "outputs": [
        {
          "output_type": "stream",
          "name": "stdout",
          "text": [
            "           BP condition\n",
            "0  128.121727     couch\n",
            "1  116.941218     couch\n",
            "2  117.359141     couch\n",
            "3  114.635157     couch\n",
            "4  124.327038     couch\n",
            "5  108.492307     couch\n",
            "6  128.724059     couch\n",
            "7  116.193965     couch\n",
            "8  121.595195     couch\n",
            "9  118.753148     couch\n",
            "0  123.310540  exercise\n",
            "1  105.699296  exercise\n",
            "2  114.387914  exercise\n",
            "3  114.079728  exercise\n",
            "4  121.668847  exercise\n",
            "5  110.500544  exercise\n",
            "6  115.137859  exercise\n",
            "7  111.610708  exercise\n",
            "8  116.211069  exercise\n",
            "9  118.914076  exercise\n"
          ]
        }
      ],
      "metadata": {
        "id": "fcoAFoyHK4vS",
        "colab": {
          "base_uri": "https://localhost:8080/"
        },
        "outputId": "b5f03ede-56b4-4b85-e3a1-e3383e25b368"
      }
    },
    {
      "cell_type": "code",
      "execution_count": null,
      "source": [
        "#visualize data\r\n",
        "#=====================\r\n",
        "\r\n",
        "sns.catplot(x='condition',y='BP',data=data,height=2,aspect=1.5)\r\n",
        "plt.ylabel('BP')\r\n",
        "plt.show()"
      ],
      "outputs": [
        {
          "output_type": "display_data",
          "data": {
            "image/png": "[encoded data removed]",
            "text/plain": [
              "<Figure size 216x144 with 1 Axes>"
            ]
          },
          "metadata": {
            "needs_background": "light"
          }
        }
      ],
      "metadata": {
        "colab": {
          "base_uri": "https://localhost:8080/",
          "height": 153
        },
        "id": "mEqRU0j0ph5A",
        "outputId": "e2beda7d-aea9-49a7-a8f2-d343b8915fa6"
      }
    },
    {
      "cell_type": "code",
      "execution_count": null,
      "source": [
        "sns.catplot(data=data,x='condition',y='BP',\r\n",
        "            jitter=1,\r\n",
        "            )\r\n",
        "plt.show()\r\n",
        "\r\n",
        "sns.catplot(data=data,x='condition',y='BP',kind='box',)\r\n",
        "plt.show()\r\n",
        "\r\n",
        "sns.catplot(data=data,x='condition',y='BP',kind='violin',)\r\n",
        "plt.show()\r\n",
        "\r\n",
        "fig,plots=plt.subplots(1)\r\n",
        "sns.boxplot(data=data,x='condition',y='BP',\r\n",
        "            ax=plots,\r\n",
        "            )\r\n",
        "sns.stripplot(data=data,x='condition',y='BP',\r\n",
        "            jitter=1,\r\n",
        "            ax=plots,alpha=0.25,\r\n",
        "            )\r\n",
        "\r\n",
        "plt.show()"
      ],
      "outputs": [
        {
          "output_type": "display_data",
          "data": {
            "image/png": "[encoded data removed]",
            "text/plain": [
              "<Figure size 360x360 with 1 Axes>"
            ]
          },
          "metadata": {
            "needs_background": "light"
          }
        },
        {
          "output_type": "display_data",
          "data": {
            "image/png": "[encoded data removed]",
            "text/plain": [
              "<Figure size 360x360 with 1 Axes>"
            ]
          },
          "metadata": {
            "needs_background": "light"
          }
        },
        {
          "output_type": "display_data",
          "data": {
            "image/png": "[encoded data removed]",
            "text/plain": [
              "<Figure size 360x360 with 1 Axes>"
            ]
          },
          "metadata": {
            "needs_background": "light"
          }
        },
        {
          "output_type": "display_data",
          "data": {
            "image/png": "[encoded data removed]",
            "text/plain": [
              "<Figure size 432x288 with 1 Axes>"
            ]
          },
          "metadata": {
            "needs_background": "light"
          }
        }
      ],
      "metadata": {
        "colab": {
          "base_uri": "https://localhost:8080/",
          "height": 1000
        },
        "id": "qBhXjFRZcfW_",
        "outputId": "e591527a-431a-426c-e45d-fddca3673bac"
      }
    },
    {
      "cell_type": "markdown",
      "source": [
        "In our hypothesis test, we ask if these two groups differ significantly from each other. It's a bit hard to say just from looking at the plot. \n",
        "\n",
        "This is where statistics comes in. It's time to:\n",
        "\n",
        "*3. Think about how much the data surprise you, given your null model*\n",
        "\n",
        "We'll convert this step to some math, as follows:\n",
        "\n",
        "**Step 1. summarize the difference between the groups with a number.**\n",
        "\n",
        "This is called a **test statistic** \n",
        "\n",
        "\"How to define the test statistic?\" you say?\n",
        "\n",
        "The world is your oyster. You are free to choose anything you wish. \n",
        "\n",
        "(Later, we'll see that some choices come with nice math, which is why they are typically used. But a test statistic could be anything)\n",
        "\n",
        "To demonstrate this intuition, let's come up with a very basic test statistic. For example, let's compute the difference between the BP in the 2 groups.\n",
        "\n"
      ],
      "metadata": {
        "id": "gcqede6WNj0t"
      }
    },
    {
      "cell_type": "code",
      "execution_count": null,
      "source": [
        "mean_ctrl=np.mean(data[data['condition']=='couch']['BP'])\r\n",
        "mean_test=np.mean(data[data['condition']=='exercise']['BP'])\r\n",
        "\r\n",
        "test_stat=mean_test-mean_ctrl\r\n",
        "print('test statistic =',test_stat)"
      ],
      "outputs": [
        {
          "output_type": "stream",
          "name": "stdout",
          "text": [
            "test statistic = -4.362237456546268\n"
          ]
        }
      ],
      "metadata": {
        "id": "EW2sfuM0P-8l",
        "colab": {
          "base_uri": "https://localhost:8080/"
        },
        "outputId": "c126d984-64dd-4043-ece9-4d0ae280833a"
      }
    },
    {
      "cell_type": "markdown",
      "source": [
        "What is this number telling us? Is the BP significantly different between the 2 conditions? It's impossible to say looking at only this number.\n",
        "\n",
        "We have to ask ourselves, well, what did you expect?\n",
        "\n",
        "This takes us to the next step.\n"
      ],
      "metadata": {
        "id": "oxJpPee2RICp"
      }
    },
    {
      "cell_type": "markdown",
      "source": [
        "\n",
        "**ii) think about what the test statistic would be if in reality there were no difference between the 2 groups. It will be a distribution, not just a single number, because you would expect to see some variation in the test statistic whenever you do an experiment, due to sampling noise, and due to variation in the population.**\n",
        "\n",
        "Here is where the wasteful part comes in. You go and repeat the measurement on 1000 different couch grouos. Then, for each of these, you compute the same test statistic = the difference between the mean in that sample and your original couch group.\n"
      ],
      "metadata": {
        "id": "_LEBm7luPH5a"
      }
    },
    {
      "cell_type": "code",
      "execution_count": null,
      "source": [
        "np.random.seed(1)\r\n",
        "data_exp2=sample_condition_values(condition_mean=ctrl_mean,\r\n",
        "                       condition_N=N_per_condition,\r\n",
        "                       condition_var=v,\r\n",
        "                       condition='control_0')\r\n",
        "for i in range(1,1001):\r\n",
        "  data_exp2=pd.concat([data_exp2,sample_condition_values(condition_mean=ctrl_mean,\r\n",
        "                       condition_N=N_per_condition,\r\n",
        "                       condition_var=v,\r\n",
        "                       condition='control_'+str(i))])\r\n",
        "\r\n",
        "print(data_exp2)"
      ],
      "outputs": [
        {
          "output_type": "stream",
          "name": "stdout",
          "text": [
            "            BP     condition\n",
            "0   128.121727     control_0\n",
            "1   116.941218     control_0\n",
            "2   117.359141     control_0\n",
            "3   114.635157     control_0\n",
            "4   124.327038     control_0\n",
            "..         ...           ...\n",
            "5   120.846771  control_1000\n",
            "6   123.368115  control_1000\n",
            "7   118.363992  control_1000\n",
            "8   118.473504  control_1000\n",
            "9   122.624327  control_1000\n",
            "\n",
            "[10010 rows x 2 columns]\n"
          ]
        }
      ],
      "metadata": {
        "id": "K6lI09JuQlLx",
        "colab": {
          "base_uri": "https://localhost:8080/"
        },
        "outputId": "40585c66-a5b3-4332-cd42-666ede1ac626"
      }
    },
    {
      "cell_type": "code",
      "execution_count": null,
      "source": [
        "#now, let's plot the distribution of the test statistic under the null hypothesis\r\n",
        "\r\n",
        "#get mean of each control\r\n",
        "exp2_means=data_exp2.groupby('condition').mean()\r\n",
        "print(exp2_means.head())\r\n",
        "\r\n",
        "null_test_stats=exp2_means-ctrl_mean\r\n",
        "\r\n",
        "plt.hist(np.array(null_test_stats).flatten(),20,color='black')\r\n",
        "plt.xlabel('Test statistic')\r\n",
        "plt.axvline(x=test_stat,color='red')\r\n"
      ],
      "outputs": [
        {
          "output_type": "stream",
          "name": "stdout",
          "text": [
            "                      BP\n",
            "condition               \n",
            "control_0     119.514296\n",
            "control_1     119.152058\n",
            "control_10    120.201086\n",
            "control_100   118.518008\n",
            "control_1000  119.698545\n"
          ]
        },
        {
          "output_type": "execute_result",
          "data": {
            "text/plain": [
              "<matplotlib.lines.Line2D at 0x1e13d951670>"
            ]
          },
          "metadata": {},
          "execution_count": 17
        },
        {
          "output_type": "display_data",
          "data": {
            "image/png": "[encoded data removed]",
            "text/plain": [
              "<Figure size 432x288 with 1 Axes>"
            ]
          },
          "metadata": {
            "needs_background": "light"
          }
        }
      ],
      "metadata": {
        "id": "S_ORBJPcRZSt",
        "colab": {
          "base_uri": "https://localhost:8080/",
          "height": 415
        },
        "outputId": "ef146b59-5dca-4c46-cd14-900de5d0d716"
      }
    },
    {
      "cell_type": "code",
      "execution_count": null,
      "source": [
        "null_test_stats"
      ],
      "outputs": [
        {
          "output_type": "execute_result",
          "data": {
            "text/html": [
              "<div>\n",
              "<style scoped>\n",
              "    .dataframe tbody tr th:only-of-type {\n",
              "        vertical-align: middle;\n",
              "    }\n",
              "\n",
              "    .dataframe tbody tr th {\n",
              "        vertical-align: top;\n",
              "    }\n",
              "\n",
              "    .dataframe thead th {\n",
              "        text-align: right;\n",
              "    }\n",
              "</style>\n",
              "<table border=\"1\" class=\"dataframe\">\n",
              "  <thead>\n",
              "    <tr style=\"text-align: right;\">\n",
              "      <th></th>\n",
              "      <th>BP</th>\n",
              "    </tr>\n",
              "    <tr>\n",
              "      <th>condition</th>\n",
              "      <th></th>\n",
              "    </tr>\n",
              "  </thead>\n",
              "  <tbody>\n",
              "    <tr>\n",
              "      <th>control_0</th>\n",
              "      <td>-0.485704</td>\n",
              "    </tr>\n",
              "    <tr>\n",
              "      <th>control_1</th>\n",
              "      <td>-0.847942</td>\n",
              "    </tr>\n",
              "    <tr>\n",
              "      <th>control_10</th>\n",
              "      <td>0.201086</td>\n",
              "    </tr>\n",
              "    <tr>\n",
              "      <th>control_100</th>\n",
              "      <td>-1.481992</td>\n",
              "    </tr>\n",
              "    <tr>\n",
              "      <th>control_1000</th>\n",
              "      <td>-0.301455</td>\n",
              "    </tr>\n",
              "    <tr>\n",
              "      <th>...</th>\n",
              "      <td>...</td>\n",
              "    </tr>\n",
              "    <tr>\n",
              "      <th>control_995</th>\n",
              "      <td>0.112184</td>\n",
              "    </tr>\n",
              "    <tr>\n",
              "      <th>control_996</th>\n",
              "      <td>2.795058</td>\n",
              "    </tr>\n",
              "    <tr>\n",
              "      <th>control_997</th>\n",
              "      <td>1.345734</td>\n",
              "    </tr>\n",
              "    <tr>\n",
              "      <th>control_998</th>\n",
              "      <td>-0.379900</td>\n",
              "    </tr>\n",
              "    <tr>\n",
              "      <th>control_999</th>\n",
              "      <td>-0.927936</td>\n",
              "    </tr>\n",
              "  </tbody>\n",
              "</table>\n",
              "<p>1001 rows × 1 columns</p>\n",
              "</div>"
            ],
            "text/plain": [
              "                    BP\n",
              "condition             \n",
              "control_0    -0.485704\n",
              "control_1    -0.847942\n",
              "control_10    0.201086\n",
              "control_100  -1.481992\n",
              "control_1000 -0.301455\n",
              "...                ...\n",
              "control_995   0.112184\n",
              "control_996   2.795058\n",
              "control_997   1.345734\n",
              "control_998  -0.379900\n",
              "control_999  -0.927936\n",
              "\n",
              "[1001 rows x 1 columns]"
            ]
          },
          "metadata": {},
          "execution_count": 18
        }
      ],
      "metadata": {
        "colab": {
          "base_uri": "https://localhost:8080/",
          "height": 450
        },
        "id": "LllCmosohvw0",
        "outputId": "b81204b0-1548-4b62-cebb-08e7dfc4a57a"
      }
    },
    {
      "cell_type": "code",
      "execution_count": null,
      "source": [
        "for i in range(null_test_stats.shape[0]):\r\n",
        "  if null_test_stats['BP'][i] > 4:\r\n",
        "    print(null_test_stats.index[i], null_test_stats['BP'][i])"
      ],
      "outputs": [
        {
          "output_type": "stream",
          "name": "stdout",
          "text": [
            "control_179 5.185586379422304\n",
            "control_43 4.129129723892561\n",
            "control_665 4.129526751544148\n",
            "control_775 4.117971581535585\n",
            "control_838 4.442499228276958\n",
            "control_952 4.185169220649826\n",
            "control_970 4.141431724614719\n"
          ]
        }
      ],
      "metadata": {
        "colab": {
          "base_uri": "https://localhost:8080/"
        },
        "id": "6EThWnaJhiLP",
        "outputId": "1968bd5f-9690-419e-fd51-59b8855112f2"
      }
    },
    {
      "cell_type": "code",
      "execution_count": null,
      "source": [
        "for i in range(null_test_stats.shape[0]):\r\n",
        "  if null_test_stats['BP'][i]<-4:\r\n",
        "    print(null_test_stats.index[i],null_test_stats['BP'][i])"
      ],
      "outputs": [
        {
          "output_type": "stream",
          "name": "stdout",
          "text": [
            "control_161 -4.148404587530905\n",
            "control_202 -4.336675796802723\n",
            "control_234 -4.137633016906577\n",
            "control_854 -4.612546175530198\n",
            "control_955 -4.0685297239182034\n"
          ]
        }
      ],
      "metadata": {
        "colab": {
          "base_uri": "https://localhost:8080/"
        },
        "id": "bPy1HINxh8vL",
        "outputId": "f62bd3a6-3f20-44cc-b398-3fd2e699be26"
      }
    },
    {
      "cell_type": "code",
      "execution_count": null,
      "source": [
        "sns.catplot(data=data_exp2,x='condition',y='BP',order=['control_0',\r\n",
        "                                                       'control_1','control_2','control_3',\r\n",
        "                                                       'control_4','control_5',#'control_6',\r\n",
        "                                                       #'control_7','control_8','control_9','control_10',\r\n",
        "                                                       'control_179','control_161',],\r\n",
        "            color='black',#kind='box',\r\n",
        "            aspect=2,height=2)"
      ],
      "outputs": [
        {
          "output_type": "execute_result",
          "data": {
            "text/plain": [
              "<seaborn.axisgrid.FacetGrid at 0x1e13b556fd0>"
            ]
          },
          "metadata": {},
          "execution_count": 21
        },
        {
          "output_type": "display_data",
          "data": {
            "image/png": "[encoded data removed]",
            "text/plain": [
              "<Figure size 288x144 with 1 Axes>"
            ]
          },
          "metadata": {
            "needs_background": "light"
          }
        }
      ],
      "metadata": {
        "colab": {
          "base_uri": "https://localhost:8080/",
          "height": 184
        },
        "id": "dbX7sggqhcw9",
        "outputId": "ac2f6c5f-0886-44fc-b84e-2bfc9eb022a8"
      }
    },
    {
      "cell_type": "code",
      "execution_count": null,
      "source": [
        "x=5\r\n",
        "plt.hist(np.array(null_test_stats[1:2]).flatten(),range(-4,4),color='black',)\r\n",
        "plt.xlabel('Test statistic (t)')\r\n",
        "plt.xlim(-x,x)\r\n",
        "plt.ylim(0,5)\r\n",
        "plt.show()\r\n",
        "#plt.axvline(x=t_stat,color='red')\r\n",
        "\r\n",
        "plt.hist(np.array(null_test_stats[1:3]).flatten(),range(-4,4),color='black',)\r\n",
        "plt.xlabel('Test statistic (t)')\r\n",
        "plt.xlim(-x,x)\r\n",
        "plt.ylim(0,5)\r\n",
        "\r\n",
        "plt.show()\r\n",
        "#plt.axvline(x=t_stat,color='red')\r\n",
        "\r\n",
        "plt.hist(np.array(null_test_stats[1:4]).flatten(),range(-4,4),color='black',)\r\n",
        "plt.xlabel('Test statistic (t)')\r\n",
        "plt.xlim(-x,x)\r\n",
        "plt.ylim(0,5)\r\n",
        "\r\n",
        "plt.show()\r\n",
        "#plt.axvline(x=t_stat,color='red')\r\n",
        "\r\n",
        "plt.hist(np.array(null_test_stats[1:5]).flatten(),range(-4,4),color='black',)\r\n",
        "plt.xlabel('Test statistic (t)')\r\n",
        "plt.xlim(-x,x)\r\n",
        "plt.ylim(0,5)\r\n",
        "\r\n",
        "plt.show()\r\n",
        "#plt.axvline(x=t_stat,color='red')\r\n",
        "\r\n",
        "plt.hist(np.array(null_test_stats[1:6]).flatten(),range(-4,4),color='black',)\r\n",
        "plt.xlabel('Test statistic (t)')\r\n",
        "plt.xlim(-x,x)\r\n",
        "plt.ylim(0,5)\r\n",
        "\r\n",
        "plt.show()\r\n",
        "#plt.axvline(x=t_stat,color='red')\r\n",
        "\r\n",
        "plt.hist(np.array(null_test_stats).flatten(),20,color='black',)\r\n",
        "plt.xlabel('Test statistic (t)')\r\n",
        "plt.xlim(-x,x)\r\n",
        "#plt.ylim(0,5)\r\n",
        "plt.show()\r\n",
        "\r\n",
        "plt.hist(np.array(null_test_stats).flatten(),20,color='black',)\r\n",
        "plt.xlabel('Test statistic (t)')\r\n",
        "plt.xlim(-x,x)\r\n",
        "#plt.ylim(0,5)\r\n",
        "plt.axvline(x=test_stat,color='red')\r\n",
        "plt.show()"
      ],
      "outputs": [
        {
          "output_type": "display_data",
          "data": {
            "image/png": "[encoded data removed]",
            "text/plain": [
              "<Figure size 432x288 with 1 Axes>"
            ]
          },
          "metadata": {
            "needs_background": "light"
          }
        },
        {
          "output_type": "display_data",
          "data": {
            "image/png": "[encoded data removed]",
            "text/plain": [
              "<Figure size 432x288 with 1 Axes>"
            ]
          },
          "metadata": {
            "needs_background": "light"
          }
        },
        {
          "output_type": "display_data",
          "data": {
            "image/png": "[encoded data removed]",
            "text/plain": [
              "<Figure size 432x288 with 1 Axes>"
            ]
          },
          "metadata": {
            "needs_background": "light"
          }
        },
        {
          "output_type": "display_data",
          "data": {
            "image/png": "[encoded data removed]",
            "text/plain": [
              "<Figure size 432x288 with 1 Axes>"
            ]
          },
          "metadata": {
            "needs_background": "light"
          }
        },
        {
          "output_type": "display_data",
          "data": {
            "image/png": "[encoded data removed]",
            "text/plain": [
              "<Figure size 432x288 with 1 Axes>"
            ]
          },
          "metadata": {
            "needs_background": "light"
          }
        },
        {
          "output_type": "display_data",
          "data": {
            "image/png": "[encoded data removed]",
            "text/plain": [
              "<Figure size 432x288 with 1 Axes>"
            ]
          },
          "metadata": {
            "needs_background": "light"
          }
        },
        {
          "output_type": "display_data",
          "data": {
            "image/png": "[encoded data removed]",
            "text/plain": [
              "<Figure size 432x288 with 1 Axes>"
            ]
          },
          "metadata": {
            "needs_background": "light"
          }
        }
      ],
      "metadata": {
        "colab": {
          "base_uri": "https://localhost:8080/",
          "height": 1000
        },
        "id": "tF02qimpgbs2",
        "outputId": "593e0a1d-ac10-4296-a493-62ba91bdca00"
      }
    },
    {
      "cell_type": "markdown",
      "source": [
        "In black we have the distribution of test statistics we obtained from the 1000 experiments measuring couch participants. In other words, this is the distribution of the test statistic under the null hypothesis.\n",
        "\n",
        "The red line shows the test statistic from our comparison of exercise group vs with couch group."
      ],
      "metadata": {
        "id": "5EaLU6M4Tow0"
      }
    },
    {
      "cell_type": "markdown",
      "source": [
        "**Is our difference in expression significant?**\n",
        "\n",
        "if the null is true, in other words, if in reality there is no difference between couch and exercise, what is the probability of seeing such an extreme difference between their means (in other words, such an extreme test statistic)?\n",
        "\n",
        "We can compute this from the plot above. We go to our null distribution, and count how many times we got a more extreme test statistic in our null experiment than the one we got for the couch vs exercise comparison.\n",
        "\n"
      ],
      "metadata": {
        "id": "8ivsL0ypUaC0"
      }
    },
    {
      "cell_type": "code",
      "execution_count": null,
      "source": [
        "count_more_extreme=int(np.sum(np.abs(null_test_stats)>=np.abs(test_stat)))\r\n",
        "print(count_more_extreme,'times we got a more extreme test statistic under the null')\r\n",
        "print(count_more_extreme / 1000,'fraction of the time we got a more extreme test statistic under the null')"
      ],
      "outputs": [
        {
          "output_type": "stream",
          "name": "stdout",
          "text": [
            "3 times we got a more extreme test statistic under the null\n",
            "0.003 fraction of the time we got a more extreme test statistic under the null\n"
          ]
        }
      ],
      "metadata": {
        "id": "lMqQT22YRZXL",
        "colab": {
          "base_uri": "https://localhost:8080/"
        },
        "outputId": "fce58bbe-f68b-4dbe-f373-a01f853115a9"
      }
    },
    {
      "cell_type": "markdown",
      "source": [
        "What we computed above is called a **p-value**. Now, this is a very often misunderstood term, so let's think about it deeply. \n",
        "\n",
        "Deeply.\n",
        "\n",
        "Deeply.\n",
        "\n",
        "About what it is, what it is not.\n",
        "\n",
        "**P-values**\n",
        "--\n",
        "\n",
        "To remember what a p-value is, you decide to make a promise to me and more importantly yourself, that from now on, any sentence in which you mention a p-value will start with \"if the null were true, ...\".\n",
        "\n",
        "**A p-value IS:**\n",
        "- if the null were true, the probability of observing something as extreme or more extreme than your test statistic.\n",
        "- it's the quantification of your \"whoa!\", given your null hypothesis. More \"whoa!\" = smaller p-value.\n",
        "\n",
        "**A p-value is NOT:**\n",
        "- the probability that the null hypothesis is wrong. We don't know the probability of that. That's sort of up to the universe. \n",
        "- the probability that the null hypothesis is wrong. This is so important, that it's worth putting it on the list twice.\n",
        "\n",
        "Why is this distinction so important? \n",
        "\n",
        "First, because we can be very good at estimating what happens under the null. It's much more challenging to think about other scenarios. For instance, if you needed to make a model for the BP being different between 2 conditions, how different do you expect them to be? Is the average couch group at 120 and the exercise at 110? Or the couch at 125 and exercise at 130? Do you make a model for each option and grow old estimating all possible models?\n",
        "\n",
        "Second, it's also a matter of being conservative. It's common courtesy to assume the 2 conditions are the same. I expect you to come to me and convince me that it would be REALLY unlikely to observe what we have just seen given the null, to make it worthwhile my time. It would be weird to just assume the BP is different between the 2 conditions and have to prove that they are the same. We'd be swimming in false positives.\n",
        "\n",
        "**Statistical significance**\n",
        "\n",
        "Now that we have a p-value, you need to ask yourself where you set a cutoff for something being unlikely enough to be \"significant\", or worth your attention. Usually, that's 0.05, or 0.01, or 0.1. Yes, essentially it's a somewhat arbitrary small number.\n",
        "\n",
        "I reiterate: this does not mean that the exercise group is different from the couch group for sure. If you were to do the experiment 1000 times with groups of participants assigned to \"couch\", in a small subset of your experiments, you'll get a test statistic as or more extreme than the one we found in our experiment comparing. But given that it's unlikely to get this result under the null hypohesis, you call it a significant difference, one that makes you think.\n",
        "\n",
        "In summary: \n",
        "- you look at your p-value - and you think about the probability of getting your result under the null, as you need to include these words in any sentence with p-values -\n",
        "- compare it with your significance threshold \n",
        "- if it is less than that threshold, you call that difference in expression significant between KO and control.\n",
        "\n",
        "**Technical note: one-tailed vs two-tailed tests**\n",
        "\n",
        "*Depending on what you believe would be the possible alternative to your null hypothesis (conveniently called the alternative hypothesis), you may compute the p-value differently.*\n",
        "\n",
        "*Specifically, in our example above, we computed the p-value by asking:*\n",
        "- *if the null were true, what is the probability of obtaining a test statistic as extreme or more extreme than the one we've seen. That means we asked whether there were test statistics larger than our test statistic, or lower than minus our test statistic. This is called a two-tailed test, because we looked at both sides (both tails) of the distribution under the null.*\n",
        "\n",
        "*If your alternative hypothesis were that the treatment specifically decreases baseline blood pressure, you'd compute the p-value differently, as you'd look under the null at only what fraction of the time you've seen a test statistic lower than the one we've seen. This is a one-tailed test.*\n",
        "\n",
        "*Of course, this is not an invitation to use one-tailed tests to try to get more significant p-values, since by definition the p-values from a one-tailed test will be smaller than those for a two-tailed test. You should define your alternative hypothesis based on deep thought. I personally like to be as conservative as possible, and as such strongly prefer two-tailed tests.*\n",
        "\n",
        "\n",
        "\n",
        "\n",
        "\n",
        "\n",
        "\n"
      ],
      "metadata": {
        "id": "SGntRQJ1VQPM"
      }
    },
    {
      "cell_type": "markdown",
      "source": [
        "**Hypothesis testing in a nutshell**\n",
        "\n",
        "- come up with a **null hypothesis**. \n",
        "  * In our case: the gene does not change in expression.\n",
        "- collect some data\n",
        "  * yay, we love data!\n",
        "- define a **test statistic** to measure your quantity of interest. \n",
        "  * here we looked at the difference between means, but as we'll see below, there are more sophisticated ways to go about it.\n",
        "- figure out the **distribution of the test statistic under the null** hypothesis\n",
        "  * here, we did this by repeating the measurement on the same type of cells 1000 times. Next, we'll learn that under certain conditions we can comoute this distribution analytically, rather than having to do thousands of experiments.\n",
        "- compute a **p-value**\n",
        "  * that tells you if the null were true, the probability of getting your test statistic or something even more outrageous\n",
        "- decide if **significant**\n",
        "  * is p-value below a pre-defined threshold\n",
        "\n",
        "If you deeply understand this, you're on a very good path to understand a LARGE fraction of all statistics you'll find in genomics."
      ],
      "metadata": {
        "id": "xIVAVdOoMUrO"
      }
    },
    {
      "cell_type": "markdown",
      "source": [
        "**PART II. EXAMPLE HYPOTHESIS TESTING USING THE T-TEST**\n",
        "---\n",
        "\n",
        "Now, let's do a t-test.\n",
        "\n"
      ],
      "metadata": {
        "id": "W1HZ29TgNKzs"
      }
    },
    {
      "cell_type": "code",
      "execution_count": null,
      "source": [
        "from scipy.stats import ttest_ind\r\n",
        "t_stat,pvalue=ttest_ind(data[data['condition']=='exercise']['BP'],\r\n",
        "    data[data['condition']=='couch']['BP'],\r\n",
        "                        )\r\n",
        "print(t_stat,pvalue)\r\n"
      ],
      "outputs": [
        {
          "output_type": "stream",
          "name": "stdout",
          "text": [
            "-1.6837025738594624 0.10950131551739636\n"
          ]
        }
      ],
      "metadata": {
        "id": "IsKMhpmZFwS3",
        "colab": {
          "base_uri": "https://localhost:8080/"
        },
        "outputId": "a8724e6c-3c74-4785-fce9-ab78d61bf94c"
      }
    },
    {
      "cell_type": "code",
      "execution_count": null,
      "source": [
        "#as before, compare to the distribution\r\n",
        "null_test_stats=[]\r\n",
        "for i in range(1000):\r\n",
        "  current_t,current_pvalue=ttest_ind(data_exp2[data_exp2['condition']=='control_'+str(i)]['BP'],\r\n",
        "      data_exp2[data_exp2['condition']=='control_0']['BP'],\r\n",
        "                        )\r\n",
        "  null_test_stats.append(current_t)\r\n",
        "\r\n",
        "plt.hist(np.array(null_test_stats).flatten(),color='black')\r\n",
        "plt.xlabel('Test statistic (t)')\r\n",
        "plt.axvline(x=t_stat,color='red')\r\n",
        "\r\n",
        "count_more_extreme=int(np.sum(np.abs(null_test_stats)>=np.abs(t_stat)))\r\n",
        "print(count_more_extreme,'times we got a more extreme test statistic under the null')\r\n",
        "print(count_more_extreme/1000,'fraction of the time we got a more extreme test statistic under the null = p-value')"
      ],
      "outputs": [
        {
          "output_type": "stream",
          "name": "stdout",
          "text": [
            "10 times we got a more extreme test statistic under the null\n",
            "0.01 fraction of the time we got a more extreme test statistic under the null = p-value\n"
          ]
        },
        {
          "output_type": "display_data",
          "data": {
            "image/png": "[encoded data removed]",
            "text/plain": [
              "<Figure size 432x288 with 1 Axes>"
            ]
          },
          "metadata": {
            "needs_background": "light"
          }
        }
      ],
      "metadata": {
        "id": "M-P_atPqLHV5",
        "colab": {
          "base_uri": "https://localhost:8080/",
          "height": 313
        },
        "outputId": "a4b3a25d-456f-4f55-f221-753664e606fe"
      }
    },
    {
      "cell_type": "markdown",
      "source": [
        "Now, the exciting thing is that we didn't have to perform the second experiment to get an empirical distribution of the test statistic under the null. Rather, we were able to estimate it analytically. And indeed, the p-value we obtained from the t-test is similar to the one we got from our big experiment!\n"
      ],
      "metadata": {
        "id": "QyDL1jX6R1lk"
      }
    },
    {
      "cell_type": "markdown",
      "source": [
        "Ok, so by now, you should be pros at hypothesis tests.\n",
        "\n",
        "Remember: decide on the null, compute test statistic, get the distribution of the test statistic under the null, compute a p-value, decide if significant."
      ],
      "metadata": {
        "id": "orydznyJSUfw"
      }
    },
    {
      "cell_type": "markdown",
      "source": [
        "There are of course many other types of hypothesis tests that don't look at the difference between groups as we did here. For instace, in GWAS, you want to see if a mutation is enriched in a disease cohort compared to healthy samples, and you do a chi-square test. \n",
        "Or maybe you have more than 2 conditions. Then you do ANOVA, rather than a t-test.\n"
      ],
      "metadata": {
        "id": "xxdKxLjGSlmO"
      }
    },
    {
      "cell_type": "markdown",
      "source": [
        "**PROJECT: EXAMPLE III:** \r\n",
        "===\r\n",
        "\r\n",
        "RNA sequencing: which genes are characteristic for different types of immune cells in your body?\r\n",
        "--"
      ],
      "metadata": {
        "id": "x6i4NGSR6RxY"
      }
    },
    {
      "cell_type": "markdown",
      "source": [
        "Motivation\n",
        "--\n",
        "\n",
        "Although all cells in our body have the same DNA, they can have wildly different functions. That is because they activate different genes, for example your brain cells turn on genes that lead to production of neurotransmitters while liver cells activate genes encoding enzymes.\n",
        "\n",
        "Here, you will compare different types of immune cells (e.g. B-cells that make your antibodies, and T-cells which fight infections), and identify which genes are specifically active in each type of cell."
      ],
      "metadata": {
        "id": "IfN6A98G6vwD"
      }
    },
    {
      "cell_type": "code",
      "execution_count": null,
      "source": [
        "#install scanpy\r\n",
        "!pip install scanpy"
      ],
      "outputs": [
        {
          "output_type": "stream",
          "name": "stdout",
          "text": [
            "Requirement already satisfied: scanpy in c:\\users\\freshskates\\.conda\\envs\\ml\\lib\\site-packages (1.8.1)\n",
            "Requirement already satisfied: numpy>=1.17.0 in c:\\users\\freshskates\\.conda\\envs\\ml\\lib\\site-packages (from scanpy) (1.20.0)\n",
            "Requirement already satisfied: h5py>=2.10.0 in c:\\users\\freshskates\\.conda\\envs\\ml\\lib\\site-packages (from scanpy) (3.4.0)\n",
            "Requirement already satisfied: scikit-learn>=0.22 in c:\\users\\freshskates\\.conda\\envs\\ml\\lib\\site-packages (from scanpy) (1.0)\n",
            "Requirement already satisfied: numba>=0.41.0 in c:\\users\\freshskates\\.conda\\envs\\ml\\lib\\site-packages (from scanpy) (0.54.1)\n",
            "Requirement already satisfied: natsort in c:\\users\\freshskates\\.conda\\envs\\ml\\lib\\site-packages (from scanpy) (7.1.1)\n",
            "Requirement already satisfied: umap-learn>=0.3.10 in c:\\users\\freshskates\\.conda\\envs\\ml\\lib\\site-packages (from scanpy) (0.5.1)\n",
            "Requirement already satisfied: joblib in c:\\users\\freshskates\\.conda\\envs\\ml\\lib\\site-packages (from scanpy) (1.1.0)\n",
            "Requirement already satisfied: pandas>=0.21 in c:\\users\\freshskates\\.conda\\envs\\ml\\lib\\site-packages (from scanpy) (1.3.3)\n",
            "Requirement already satisfied: anndata>=0.7.4 in c:\\users\\freshskates\\.conda\\envs\\ml\\lib\\site-packages (from scanpy) (0.7.6)\n",
            "Requirement already satisfied: patsy in c:\\users\\freshskates\\.conda\\envs\\ml\\lib\\site-packages (from scanpy) (0.5.2)\n",
            "Requirement already satisfied: sinfo in c:\\users\\freshskates\\.conda\\envs\\ml\\lib\\site-packages (from scanpy) (0.3.4)\n",
            "Requirement already satisfied: tqdm in c:\\users\\freshskates\\.conda\\envs\\ml\\lib\\site-packages (from scanpy) (4.62.3)\n",
            "Requirement already satisfied: seaborn in c:\\users\\freshskates\\.conda\\envs\\ml\\lib\\site-packages (from scanpy) (0.11.2)\n",
            "Requirement already satisfied: packaging in c:\\users\\freshskates\\.conda\\envs\\ml\\lib\\site-packages (from scanpy) (21.0)\n",
            "Requirement already satisfied: matplotlib>=3.1.2 in c:\\users\\freshskates\\.conda\\envs\\ml\\lib\\site-packages (from scanpy) (3.4.3)\n",
            "Requirement already satisfied: statsmodels>=0.10.0rc2 in c:\\users\\freshskates\\.conda\\envs\\ml\\lib\\site-packages (from scanpy) (0.13.0)\n",
            "Requirement already satisfied: scipy>=1.4 in c:\\users\\freshskates\\.conda\\envs\\ml\\lib\\site-packages (from scanpy) (1.7.1)\n",
            "Requirement already satisfied: tables in c:\\users\\freshskates\\.conda\\envs\\ml\\lib\\site-packages (from scanpy) (3.6.1)\n",
            "Requirement already satisfied: networkx>=2.3 in c:\\users\\freshskates\\.conda\\envs\\ml\\lib\\site-packages (from scanpy) (2.6.3)\n",
            "Requirement already satisfied: xlrd<2.0 in c:\\users\\freshskates\\.conda\\envs\\ml\\lib\\site-packages (from anndata>=0.7.4->scanpy) (1.2.0)\n",
            "Requirement already satisfied: python-dateutil>=2.7 in c:\\users\\freshskates\\.conda\\envs\\ml\\lib\\site-packages (from matplotlib>=3.1.2->scanpy) (2.8.2)\n",
            "Requirement already satisfied: cycler>=0.10 in c:\\users\\freshskates\\.conda\\envs\\ml\\lib\\site-packages (from matplotlib>=3.1.2->scanpy) (0.10.0)\n",
            "Requirement already satisfied: pyparsing>=2.2.1 in c:\\users\\freshskates\\.conda\\envs\\ml\\lib\\site-packages (from matplotlib>=3.1.2->scanpy) (2.4.7)\n",
            "Requirement already satisfied: kiwisolver>=1.0.1 in c:\\users\\freshskates\\.conda\\envs\\ml\\lib\\site-packages (from matplotlib>=3.1.2->scanpy) (1.3.2)\n",
            "Requirement already satisfied: pillow>=6.2.0 in c:\\users\\freshskates\\.conda\\envs\\ml\\lib\\site-packages (from matplotlib>=3.1.2->scanpy) (8.3.2)\n",
            "Requirement already satisfied: six in c:\\users\\freshskates\\.conda\\envs\\ml\\lib\\site-packages (from cycler>=0.10->matplotlib>=3.1.2->scanpy) (1.16.0)\n",
            "Requirement already satisfied: setuptools in c:\\users\\freshskates\\.conda\\envs\\ml\\lib\\site-packages (from numba>=0.41.0->scanpy) (58.0.4)\n",
            "Requirement already satisfied: llvmlite<0.38,>=0.37.0rc1 in c:\\users\\freshskates\\.conda\\envs\\ml\\lib\\site-packages (from numba>=0.41.0->scanpy) (0.37.0)\n",
            "Requirement already satisfied: pytz>=2017.3 in c:\\users\\freshskates\\.conda\\envs\\ml\\lib\\site-packages (from pandas>=0.21->scanpy) (2021.3)\n",
            "Requirement already satisfied: threadpoolctl>=2.0.0 in c:\\users\\freshskates\\.conda\\envs\\ml\\lib\\site-packages (from scikit-learn>=0.22->scanpy) (3.0.0)\n",
            "Requirement already satisfied: pynndescent>=0.5 in c:\\users\\freshskates\\.conda\\envs\\ml\\lib\\site-packages (from umap-learn>=0.3.10->scanpy) (0.5.5)\n",
            "Requirement already satisfied: stdlib-list in c:\\users\\freshskates\\.conda\\envs\\ml\\lib\\site-packages (from sinfo->scanpy) (0.8.0)\n",
            "Requirement already satisfied: numexpr>=2.6.2 in c:\\users\\freshskates\\.conda\\envs\\ml\\lib\\site-packages (from tables->scanpy) (2.7.3)\n",
            "Requirement already satisfied: colorama in c:\\users\\freshskates\\.conda\\envs\\ml\\lib\\site-packages (from tqdm->scanpy) (0.4.4)\n"
          ]
        }
      ],
      "metadata": {
        "id": "mnqfPq06Y1dC"
      }
    },
    {
      "cell_type": "markdown",
      "source": [
        "RNA sequencing\n",
        "--\n",
        "\n",
        "RNA sequencing allows us to quantify the extent to which each gene is active in a sample. When a gene is active, its DNA is transcribed into mRNA and then translated into protein. With RNA sequencing, we are counting how frequent mRNAs for each gene occur in a sample. Genes that are more active will have higher counts, while genes that are not made into mRNA will have 0 counts.\n",
        "\n",
        "Data\n",
        "--\n",
        "\n",
        "The code below will download the data for you, and organize it into a data frame, where:\n",
        "- every row is a different gene\n",
        "- every column is a different sample. \n",
        "  - We have 6 samples, 3 of T cells (called \"CD4 T cells\" and B cells (\"B cells\").\n",
        "- every value is the number of reads from each gene in each sample. \n",
        "  - Note: the values have been normalized to be comparable between samples."
      ],
      "metadata": {
        "id": "Z4SYgYLVpnKA"
      }
    },
    {
      "cell_type": "code",
      "execution_count": null,
      "source": [
        "import scanpy as sc\r\n",
        "def prep_data():\r\n",
        "  adata=sc.datasets.pbmc3k_processed()\r\n",
        "  counts=pd.DataFrame(np.expm1(adata.raw.X.toarray()),\r\n",
        "                      index=adata.raw.obs_names,\r\n",
        "                      columns=adata.raw.var_names)\r\n",
        "  \r\n",
        "  #make 3 reps T-cells and 3 reps B-cells\r\n",
        "  cells_per_bulk=100\r\n",
        "  celltype='CD4 T cells'\r\n",
        "  cells=adata.obs_names[adata.obs['louvain']==celltype]\r\n",
        "  bulks=pd.DataFrame(columns=[celltype+'.rep1',celltype+'.rep2',celltype+'.rep3'],\r\n",
        "                    index=adata.raw.var_names)\r\n",
        "\r\n",
        "  for i in range(3):\r\n",
        "    cells_here=cells[(i*100):((i+1)*100)]\r\n",
        "    bulks[celltype+'.rep'+str(i+1)]=list(counts.loc[cells_here,:].sum(axis=0))\r\n",
        "  bulk_t=bulks\r\n",
        "\r\n",
        "  celltype='B cells'\r\n",
        "  cells=adata.obs_names[adata.obs['louvain']==celltype]\r\n",
        "  bulks=pd.DataFrame(columns=[celltype+'.rep1',celltype+'.rep2',celltype+'.rep3'],\r\n",
        "                    index=adata.raw.var_names)\r\n",
        "\r\n",
        "  for i in range(3):\r\n",
        "    cells_here=cells[(i*100):((i+1)*100)]\r\n",
        "    bulks[celltype+'.rep'+str(i+1)]=list(counts.loc[cells_here,:].sum(axis=0))\r\n",
        "\r\n",
        "  bulks=pd.concat([bulk_t,bulks],axis=1)\r\n",
        "  bulks=bulks.sort_values(by=bulks.columns[0],ascending=False)\r\n",
        "  return(bulks)\r\n",
        "\r\n",
        "data=prep_data()\r\n",
        "print(data.head())\r\n",
        "\r\n",
        "print(\"min: \", data.min())\r\n",
        "print(\"max: \", data.max())\r\n"
      ],
      "outputs": [
        {
          "output_type": "stream",
          "name": "stdout",
          "text": [
            "        CD4 T cells.rep1  CD4 T cells.rep2  CD4 T cells.rep3  B cells.rep1  \\\n",
            "index                                                                        \n",
            "MALAT1            8303.0            7334.0            7697.0        5246.0   \n",
            "B2M               4493.0            4675.0            4546.0        2861.0   \n",
            "TMSB4X            4198.0            4297.0            3932.0        2551.0   \n",
            "RPL10             3615.0            3565.0            3965.0        3163.0   \n",
            "RPL13             3501.0            3556.0            3679.0        2997.0   \n",
            "\n",
            "        B cells.rep2  B cells.rep3  \n",
            "index                               \n",
            "MALAT1        5336.0        4950.0  \n",
            "B2M           2844.0        2796.0  \n",
            "TMSB4X        2066.0        2276.0  \n",
            "RPL10         2830.0        2753.0  \n",
            "RPL13         2636.0        2506.0  \n",
            "min:  CD4 T cells.rep1    0.0\n",
            "CD4 T cells.rep2    0.0\n",
            "CD4 T cells.rep3    0.0\n",
            "B cells.rep1        0.0\n",
            "B cells.rep2        0.0\n",
            "B cells.rep3        0.0\n",
            "dtype: float64\n",
            "max:  CD4 T cells.rep1    8303.0\n",
            "CD4 T cells.rep2    7334.0\n",
            "CD4 T cells.rep3    7697.0\n",
            "B cells.rep1        5246.0\n",
            "B cells.rep2        5336.0\n",
            "B cells.rep3        4950.0\n",
            "dtype: float64\n"
          ]
        }
      ],
      "metadata": {
        "id": "6PF9LhSEEcPq"
      }
    },
    {
      "cell_type": "markdown",
      "source": [
        "**Let's explore the dataset**\n",
        "\n",
        "**(1 pt)** What are the names of the samples?\n",
        "\n",
        "\n",
        "\n",
        "**(2 pts)** What is the highest recorded value? What is the lowest?\n",
        "\n"
      ],
      "metadata": {
        "id": "9LvE0wZnr4th"
      }
    },
    {
      "cell_type": "markdown",
      "source": [
        "#write code to answer the questions here\r\n",
        "\r\n",
        "1) \r\n",
        "Sample names are \r\n",
        "- CD4 T cells.rep1, CD4 T cells.rep2, CD4 T cells.rep3, \r\n",
        "- B cells.rep1, B cells.rep2, B cells.rep3  \r\n",
        "\r\n",
        "2) \r\n",
        "\r\n",
        "- The highest recorded value:\r\n",
        "**max:  CD4 T cells.rep1    8303.0**\r\n",
        "\r\n",
        "- The lowest recorded value:\r\n",
        "**min:  CD4 T cells.rep1    0.0**"
      ],
      "metadata": {
        "id": "tZSVE-rqr3oj"
      }
    },
    {
      "cell_type": "markdown",
      "source": [
        "**Exploring the data**\r\n",
        "\r\n",
        "One gene that is different between our 2 cell types is IL7R. \r\n",
        "\r\n",
        "**(1 pt)** Plot the distribution of the IL7R gene in the 2 conditions. Which cell type (CD4 T cells or B cells) has the higher level of this gene?\r\n",
        "\r\n",
        "\r\n",
        "\r\n",
        "**(1 pt)** How many samples do we have for each condition?\r\n",
        "4) "
      ],
      "metadata": {
        "id": "27T483mPqpJJ"
      }
    },
    {
      "cell_type": "markdown",
      "source": [
        "# Answers\r\n",
        "3) \r\n",
        "- CD4 T has a higher level of this gene, it can be seen in the graph plotted\r\n",
        "\r\n",
        "4) \r\n",
        "- Three samples for each condition\r\n",
        "\r\n",
        "For CD4 T Cells: \r\n",
        "- CD4 T cells rep1\r\n",
        "- CD4 T cells rep2\r\n",
        "- CD4 T cells rep3\r\n",
        "\r\n",
        "For B Cells:\r\n",
        "- B cells rep1 \r\n",
        "- B cells rep2 \r\n",
        "- B cells rep3 \r\n"
      ],
      "metadata": {}
    },
    {
      "cell_type": "code",
      "execution_count": null,
      "source": [
        "#inspect the data \r\n",
        "GENE='IL7R'\r\n",
        "long_data=pd.DataFrame({GENE:data.loc[GENE,:],\r\n",
        "                        'condition':[x.split('.')[0] for x in data.columns]})\r\n",
        "print(long_data)\r\n",
        "\r\n",
        "sns.catplot(data=long_data,x='condition', y=GENE)"
      ],
      "outputs": [
        {
          "output_type": "stream",
          "name": "stdout",
          "text": [
            "                   IL7R    condition\n",
            "CD4 T cells.rep1  175.0  CD4 T cells\n",
            "CD4 T cells.rep2  128.0  CD4 T cells\n",
            "CD4 T cells.rep3  146.0  CD4 T cells\n",
            "B cells.rep1       13.0      B cells\n",
            "B cells.rep2       10.0      B cells\n",
            "B cells.rep3       20.0      B cells\n"
          ]
        },
        {
          "output_type": "execute_result",
          "data": {
            "text/plain": [
              "<seaborn.axisgrid.FacetGrid at 0x1e13d66aca0>"
            ]
          },
          "metadata": {},
          "execution_count": 29
        },
        {
          "output_type": "display_data",
          "data": {
            "image/png": "[encoded data removed]",
            "text/plain": [
              "<Figure size 360x360 with 1 Axes>"
            ]
          },
          "metadata": {
            "needs_background": "light"
          }
        }
      ],
      "metadata": {
        "id": "52k4faUTqm8s"
      }
    },
    {
      "cell_type": "markdown",
      "source": [
        "**Two-sample t-test for one gene across 2 conditions**\r\n",
        "\r\n",
        "We are now going to check whether the gene IL7R is differentially active in CD4 T cells vs B cells. \r\n",
        "\r\n",
        "**(1 pt)** What is the null hypothesis?\r\n",
        "\r\n",
        "\r\n",
        "**(1 pt)** Based on your plot of the gene in the two conditions, and the fact that there looks like there might be a difference, what do you expect the sign of the t-statistic to be (CD4 T cells vs B cells)?\r\n"
      ],
      "metadata": {
        "id": "sqVvQHdEuf8s"
      }
    },
    {
      "cell_type": "markdown",
      "source": [
        "We are going to use the function ttest_ind to perform our t-test. You can read about it here: https://docs.scipy.org/doc/scipy/reference/generated/scipy.stats.ttest_ind.html."
      ],
      "metadata": {
        "id": "y06nbXQIuhay"
      }
    },
    {
      "cell_type": "markdown",
      "source": [
        "\r\n",
        "\r\n",
        "**(1 pt)** What is the t-statistic?\r\n",
        "\r\n",
        "\r\n",
        "\r\n",
        "**(1 pt)** What is the p-value?\r\n",
        "\r\n",
        "\r\n",
        "\r\n",
        "\r\n",
        "**(1 pt)** Describe in your own words what the p-value means.\r\n",
        "\r\n",
        "\r\n",
        "**(1 pt)** Is the p-value significant at alpha = 0.05?\r\n"
      ],
      "metadata": {
        "id": "czpIaUoRsCYs"
      }
    },
    {
      "cell_type": "markdown",
      "source": [
        "# Answers\r\n",
        "5) \r\n",
        "\r\n",
        "- The graph is interesting, at first glance it seems like IL7R is not differentially active in CD4 T cells vs B cells \r\n",
        "- they are similar \r\n",
        "\r\n",
        "6) \r\n",
        "\r\n",
        "- If the sign is positive, then reject the null hypothesis\r\n",
        "\r\n",
        "--- \r\n",
        "\r\n",
        "7) \r\n",
        "- t statistic: 9.66\r\n",
        "\r\n",
        "<br>\r\n",
        "test statistic tells us how much our sample mean deviates from the null hypothesis mean\r\n",
        "<br>\r\n",
        "T Statistic is the value calculated when you replace the population std with the sd(sample standard)\r\n",
        "\r\n",
        "8) \r\n",
        "- p-value: 0.00064<br>\r\n",
        "\r\n",
        "\r\n",
        "9) \r\n",
        "- the p valueis the porbability / likelihood of the null hypothesis, since it was rejected it should be low. the smaller the p value, the more \"wrong\" the null hypothesis it is\r\n",
        "\r\n",
        "10) \r\n",
        "- p value != alpha\r\n",
        "- 0.00064 != 0.05\r\n",
        "- null hypothesis rejected because of that, therefore making the P value significant\r\n",
        " "
      ],
      "metadata": {}
    },
    {
      "cell_type": "code",
      "execution_count": null,
      "source": [
        "#pick 1 gene, do 1 t-test\r\n",
        "GENE='IL7R'\r\n",
        "COND1=['CD4 T cells.rep' + str(x+1) for x in range(3)]\r\n",
        "COND2=['B cells.rep' + str(x+1) for x in range(3)]\r\n",
        "\r\n",
        "#plot gene across samples\r\n",
        "\r\n",
        "#t-test\r\n",
        "from scipy.stats import ttest_ind\r\n",
        "t_stat,pvalue=ttest_ind(data.loc[GENE,COND1],data.loc[GENE,COND2])\r\n",
        "print('t statistic',t_stat.round(2))\r\n",
        "print('p-value',pvalue.round(5))"
      ],
      "outputs": [
        {
          "output_type": "stream",
          "name": "stdout",
          "text": [
            "t statistic 9.66\n",
            "p-value 0.00064\n"
          ]
        }
      ],
      "metadata": {
        "id": "hU57ZuTzEcer"
      }
    },
    {
      "cell_type": "markdown",
      "source": [
        "**Two-sample t-tests for each gene across 2 conditions**\n",
        "\n",
        "We are now going to repeat our analysis from before for all genes in our dataset.\n",
        "\n",
        "**(1 pt)** How many genes are present in our dataset?\n",
        "\n"
      ],
      "metadata": {
        "id": "UgJrYBcAt2fc"
      }
    },
    {
      "cell_type": "markdown",
      "source": [
        "#Answers\r\n",
        "\r\n",
        "11) \r\n",
        "- 13714 genes present in the dataset, displayed with display(results)"
      ],
      "metadata": {}
    },
    {
      "cell_type": "code",
      "execution_count": 43,
      "source": [
        "from IPython.display import display\r\n",
        "\r\n",
        "#all genes t-tests\r\n",
        "PSEUDOCOUNT=1\r\n",
        "results=pd.DataFrame(index=data.index,\r\n",
        "                     columns=['t','p','lfc'])\r\n",
        "for gene in data.index:\r\n",
        "  t_stat,pvalue=ttest_ind(data.loc[gene,COND1],data.loc[gene,COND2])\r\n",
        "  lfc=np.log2((data.loc[gene,COND1].mean()+PSEUDOCOUNT)/(data.loc[gene,COND2].mean()+PSEUDOCOUNT))\r\n",
        "  results.loc[gene,'t']=t_stat\r\n",
        "  results.loc[gene,'p']=pvalue\r\n",
        "  results.loc[gene,'lfc']=lfc\r\n"
      ],
      "outputs": [],
      "metadata": {
        "id": "F8VM7kt1MkBa"
      }
    },
    {
      "cell_type": "markdown",
      "source": [
        "**Ranking discoveries by either significance or fold change**\n",
        "\n",
        "For each gene, we have obtained:\n",
        "- a t-statistic\n",
        "- a p-value for the difference between the 2 conditions\n",
        "- a log2 fold change between CD4 T cells and B cells\n",
        "\n",
        "We can inspect how fold changes relate to the significance of the differences. \n",
        "\n",
        "**(1 pt)** What do you expect the relationship to be between significance/p-values and fold changes?\n",
        "\n",
        "\n",
        " \n"
      ],
      "metadata": {
        "id": "J5brF3iouawl"
      }
    },
    {
      "cell_type": "markdown",
      "source": [
        "#Answers\r\n",
        "\r\n",
        "12) Fold change has a correlation p value, the bigger the fold change from 0 the bigger p value"
      ],
      "metadata": {}
    },
    {
      "cell_type": "code",
      "execution_count": 46,
      "source": [
        "#volcano plot\r\n",
        "###### \r\n",
        "results['p']=results['p'].fillna(1)\r\n",
        "PS2=1e-7\r\n",
        "plt.scatter(results['lfc'],-np.log10(results['p']+PS2),s=5,alpha=0.5,color='black')\r\n",
        "plt.xlabel('Log2 fold change (CD4 T cells/B cells)')\r\n",
        "plt.ylabel('-log10(p-value)')\r\n",
        "plt.show()\r\n",
        "display(results)"
      ],
      "outputs": [
        {
          "output_type": "display_data",
          "data": {
            "image/png": "[encoded data removed]",
            "text/plain": [
              "<Figure size 432x288 with 1 Axes>"
            ]
          },
          "metadata": {
            "needs_background": "light"
          }
        },
        {
          "output_type": "display_data",
          "data": {
            "text/html": [
              "<div>\n",
              "<style scoped>\n",
              "    .dataframe tbody tr th:only-of-type {\n",
              "        vertical-align: middle;\n",
              "    }\n",
              "\n",
              "    .dataframe tbody tr th {\n",
              "        vertical-align: top;\n",
              "    }\n",
              "\n",
              "    .dataframe thead th {\n",
              "        text-align: right;\n",
              "    }\n",
              "</style>\n",
              "<table border=\"1\" class=\"dataframe\">\n",
              "  <thead>\n",
              "    <tr style=\"text-align: right;\">\n",
              "      <th></th>\n",
              "      <th>t</th>\n",
              "      <th>p</th>\n",
              "      <th>lfc</th>\n",
              "    </tr>\n",
              "    <tr>\n",
              "      <th>index</th>\n",
              "      <th></th>\n",
              "      <th></th>\n",
              "      <th></th>\n",
              "    </tr>\n",
              "  </thead>\n",
              "  <tbody>\n",
              "    <tr>\n",
              "      <th>MALAT1</th>\n",
              "      <td>8.505903</td>\n",
              "      <td>0.001048</td>\n",
              "      <td>0.587097</td>\n",
              "    </tr>\n",
              "    <tr>\n",
              "      <th>B2M</th>\n",
              "      <td>30.250931</td>\n",
              "      <td>0.000007</td>\n",
              "      <td>0.689751</td>\n",
              "    </tr>\n",
              "    <tr>\n",
              "      <th>TMSB4X</th>\n",
              "      <td>10.377681</td>\n",
              "      <td>0.000487</td>\n",
              "      <td>0.849995</td>\n",
              "    </tr>\n",
              "    <tr>\n",
              "      <th>RPL10</th>\n",
              "      <td>4.494062</td>\n",
              "      <td>0.010872</td>\n",
              "      <td>0.349595</td>\n",
              "    </tr>\n",
              "    <tr>\n",
              "      <th>RPL13</th>\n",
              "      <td>5.548563</td>\n",
              "      <td>0.005162</td>\n",
              "      <td>0.399405</td>\n",
              "    </tr>\n",
              "    <tr>\n",
              "      <th>...</th>\n",
              "      <td>...</td>\n",
              "      <td>...</td>\n",
              "      <td>...</td>\n",
              "    </tr>\n",
              "    <tr>\n",
              "      <th>C9orf169</th>\n",
              "      <td>-1.0</td>\n",
              "      <td>0.373901</td>\n",
              "      <td>-0.415037</td>\n",
              "    </tr>\n",
              "    <tr>\n",
              "      <th>TPRN</th>\n",
              "      <td>-1.0</td>\n",
              "      <td>0.373901</td>\n",
              "      <td>-0.415037</td>\n",
              "    </tr>\n",
              "    <tr>\n",
              "      <th>LRRC26</th>\n",
              "      <td>NaN</td>\n",
              "      <td>1.000000</td>\n",
              "      <td>0.0</td>\n",
              "    </tr>\n",
              "    <tr>\n",
              "      <th>UAP1L1</th>\n",
              "      <td>-0.707107</td>\n",
              "      <td>0.518519</td>\n",
              "      <td>-0.321928</td>\n",
              "    </tr>\n",
              "    <tr>\n",
              "      <th>AK8</th>\n",
              "      <td>-2.0</td>\n",
              "      <td>0.116117</td>\n",
              "      <td>-1.222392</td>\n",
              "    </tr>\n",
              "  </tbody>\n",
              "</table>\n",
              "<p>13714 rows × 3 columns</p>\n",
              "</div>"
            ],
            "text/plain": [
              "                  t         p       lfc\n",
              "index                                  \n",
              "MALAT1     8.505903  0.001048  0.587097\n",
              "B2M       30.250931  0.000007  0.689751\n",
              "TMSB4X    10.377681  0.000487  0.849995\n",
              "RPL10      4.494062  0.010872  0.349595\n",
              "RPL13      5.548563  0.005162  0.399405\n",
              "...             ...       ...       ...\n",
              "C9orf169       -1.0  0.373901 -0.415037\n",
              "TPRN           -1.0  0.373901 -0.415037\n",
              "LRRC26          NaN  1.000000       0.0\n",
              "UAP1L1    -0.707107  0.518519 -0.321928\n",
              "AK8            -2.0  0.116117 -1.222392\n",
              "\n",
              "[13714 rows x 3 columns]"
            ]
          },
          "metadata": {}
        }
      ],
      "metadata": {
        "colab": {
          "base_uri": "https://localhost:8080/",
          "height": 279
        },
        "id": "2-MATQB2Qxhn",
        "outputId": "4952e3a6-6a90-4486-8fdc-c951a378a99c"
      }
    },
    {
      "cell_type": "markdown",
      "source": [
        "**Multiple testing correction**\n",
        "\n",
        "Now, we will explore how the number of differentially active genes differs depending on how we correct for multiple tests.\n",
        "\n",
        "**(1 pt)** How many genes pass the significance level of 0.05, without performing any correction for multiple testing?\n",
        "\n"
      ],
      "metadata": {
        "id": "CZQrBGNjwLaM"
      }
    },
    {
      "cell_type": "markdown",
      "source": [
        "#Answers\r\n",
        "\r\n",
        "13)\r\n",
        "- there are 1607 genes that pass the significance level of 0.05\r\n"
      ],
      "metadata": {}
    },
    {
      "cell_type": "code",
      "execution_count": null,
      "source": [
        "ALPHA=0.05\r\n",
        "print((results['p']<=ALPHA).sum())"
      ],
      "outputs": [
        {
          "output_type": "stream",
          "name": "stdout",
          "text": [
            "1607\n"
          ]
        }
      ],
      "metadata": {
        "id": "WOO1tsl9wf0Y"
      }
    },
    {
      "cell_type": "markdown",
      "source": [
        "We will use a function that adjusts our p-values using different methods, called \"multipletests\". You can read about it here: https://www.statsmodels.org/dev/generated/statsmodels.stats.multitest.multipletests.html\n",
        "\n",
        "We will use the following settings:\n",
        "- for Bonferroni correction, we set method='bonferroni'. This will multiply our p-values by the number of tests we did. If the resulting values are greated than 1 they will be clipped to 1.\n",
        "- for Benjamini-Hochberg correction, we set method='fdr_bh'"
      ],
      "metadata": {
        "id": "vYFu2uQuzNw3"
      }
    },
    {
      "cell_type": "markdown",
      "source": [
        "**(2 pts)** How many genes pass the significance level of 0.05, after correcting for multiple testing using the Bonferroni method? What is the revised p-value threshold?\n",
        "\n",
        "**(1 pt)** Would the gene we tested before, IL7R, pass this threshold?\n",
        "\n"
      ],
      "metadata": {
        "id": "GGJYXFOEwsDR"
      }
    },
    {
      "cell_type": "markdown",
      "source": [
        "#Answers\r\n",
        "\r\n",
        "14) \r\n",
        "\r\n",
        "\r\n",
        "- 63 genes pass the significance level of 0.05(after correcting multiple testing using the bonferroni method)\r\n",
        "- new p value threshold: 0.05/13714 = 3.6 * 10^-6\r\n",
        "\r\n",
        "- uses 13714 - alpha = alpha / k \r\n",
        "\r\n",
        "15)\r\n",
        "\r\n",
        "- Yes it would, with the corrected p-value greater than 1 \r\n",
        "\r\n"
      ],
      "metadata": {}
    },
    {
      "cell_type": "code",
      "execution_count": null,
      "source": [
        "#multiple testing correction \r\n",
        "\r\n",
        "#bonferroni\r\n",
        "from statsmodels.stats.multitest import multipletests\r\n",
        "results['p.adj.bonferroni']=multipletests(results['p'], method='bonferroni')[1]\r\n",
        "\r\n",
        "FDR=ALPHA\r\n",
        "plt.hist(results['p'],100)\r\n",
        "plt.axvline(x=FDR,color='red',linestyle='--')\r\n",
        "plt.xlabel('Unadjusted p-values')\r\n",
        "plt.ylabel('Number of genes')\r\n",
        "plt.show()\r\n",
        "plt.hist(results['p.adj.bonferroni'],100)\r\n",
        "#plt.ylim(0,200)\r\n",
        "plt.axvline(x=FDR,color='red',linestyle='--')\r\n",
        "plt.xlabel('P-values (Bonferroni corrected)')\r\n",
        "plt.ylabel('Number of genes')\r\n",
        "plt.show()\r\n",
        "plt.show()\r\n",
        "\r\n",
        "print('DE Bonferroni',(results['p.adj.bonferroni']<=FDR).sum())"
      ],
      "outputs": [
        {
          "output_type": "display_data",
          "data": {
            "image/png": "[encoded data removed]",
            "text/plain": [
              "<Figure size 432x288 with 1 Axes>"
            ]
          },
          "metadata": {
            "needs_background": "light"
          }
        },
        {
          "output_type": "display_data",
          "data": {
            "image/png": "[encoded data removed]",
            "text/plain": [
              "<Figure size 432x288 with 1 Axes>"
            ]
          },
          "metadata": {
            "needs_background": "light"
          }
        },
        {
          "output_type": "stream",
          "name": "stdout",
          "text": [
            "DE Bonferroni 63\n"
          ]
        }
      ],
      "metadata": {
        "id": "-3eBU0XIw8CV"
      }
    },
    {
      "cell_type": "markdown",
      "source": [
        "**(1 pt)** How many genes pass the significance level of 0.05, after correcting for multiple testing using the Benjamini-Hochberg method? \n",
        "\n"
      ],
      "metadata": {
        "id": "bhi5yXqVxe6q"
      }
    },
    {
      "cell_type": "markdown",
      "source": [
        "#Answers\r\n",
        "\r\n",
        "16)\r\n",
        "- 220"
      ],
      "metadata": {}
    },
    {
      "cell_type": "code",
      "execution_count": null,
      "source": [
        "results['p.adj.bh']=multipletests(results['p'], method='fdr_bh')[1]\r\n",
        "\r\n",
        "FDR=0.05\r\n",
        "plt.hist(results['p'],100)\r\n",
        "plt.axvline(x=FDR,color='red',linestyle='--')\r\n",
        "plt.xlabel('Unadjusted p-values')\r\n",
        "plt.ylabel('Number of genes')\r\n",
        "plt.show()\r\n",
        "plt.hist(results['p.adj.bh'],100)\r\n",
        "plt.ylim(0,2000)\r\n",
        "plt.axvline(x=FDR,color='red',linestyle='--')\r\n",
        "plt.xlabel('P-values (Benjamini-Hochberg corrected)')\r\n",
        "plt.ylabel('Number of genes')\r\n",
        "plt.show()\r\n",
        "\r\n",
        "print('DE BH',(results['p.adj.bh']<=FDR).sum())"
      ],
      "outputs": [
        {
          "output_type": "display_data",
          "data": {
            "image/png": "[encoded data removed]",
            "text/plain": [
              "<Figure size 432x288 with 1 Axes>"
            ]
          },
          "metadata": {
            "needs_background": "light"
          }
        },
        {
          "output_type": "display_data",
          "data": {
            "image/png": "[encoded data removed]",
            "text/plain": [
              "<Figure size 432x288 with 1 Axes>"
            ]
          },
          "metadata": {
            "needs_background": "light"
          }
        },
        {
          "output_type": "stream",
          "name": "stdout",
          "text": [
            "DE BH 220\n"
          ]
        }
      ],
      "metadata": {
        "id": "rT5SEacFMkFq"
      }
    },
    {
      "cell_type": "markdown",
      "source": [
        "**(1 pt)** Which multiple testing correction is the most stringent? \n",
        "\n",
        "\n",
        "Finally, let's look at our results. Print the significant differential genes and look up a few on the internet."
      ],
      "metadata": {
        "id": "sVPbHSXRxwg0"
      }
    },
    {
      "cell_type": "markdown",
      "source": [
        "#Answers\r\n",
        "\r\n",
        "17)\r\n",
        "- Bonferroni, and this is because the corrected p values resulted in values of 1 or greater, so it was limited to 1"
      ],
      "metadata": {}
    },
    {
      "cell_type": "code",
      "execution_count": null,
      "source": [
        "results.loc[results['p.adj.bonferroni']<=FDR,:].sort_values(by='lfc')"
      ],
      "outputs": [
        {
          "output_type": "execute_result",
          "data": {
            "text/html": [
              "<div>\n",
              "<style scoped>\n",
              "    .dataframe tbody tr th:only-of-type {\n",
              "        vertical-align: middle;\n",
              "    }\n",
              "\n",
              "    .dataframe tbody tr th {\n",
              "        vertical-align: top;\n",
              "    }\n",
              "\n",
              "    .dataframe thead th {\n",
              "        text-align: right;\n",
              "    }\n",
              "</style>\n",
              "<table border=\"1\" class=\"dataframe\">\n",
              "  <thead>\n",
              "    <tr style=\"text-align: right;\">\n",
              "      <th></th>\n",
              "      <th>t</th>\n",
              "      <th>p</th>\n",
              "      <th>lfc</th>\n",
              "      <th>p.adj.bonferroni</th>\n",
              "      <th>p.adj.bh</th>\n",
              "    </tr>\n",
              "    <tr>\n",
              "      <th>index</th>\n",
              "      <th></th>\n",
              "      <th></th>\n",
              "      <th></th>\n",
              "      <th></th>\n",
              "      <th></th>\n",
              "    </tr>\n",
              "  </thead>\n",
              "  <tbody>\n",
              "    <tr>\n",
              "      <th>LINC00926</th>\n",
              "      <td>-39.81515</td>\n",
              "      <td>2.377572e-06</td>\n",
              "      <td>-6.0268</td>\n",
              "      <td>0.032606</td>\n",
              "      <td>0.000533</td>\n",
              "    </tr>\n",
              "    <tr>\n",
              "      <th>VPREB3</th>\n",
              "      <td>-39.686585</td>\n",
              "      <td>2.408465e-06</td>\n",
              "      <td>-5.994353</td>\n",
              "      <td>0.033030</td>\n",
              "      <td>0.000533</td>\n",
              "    </tr>\n",
              "    <tr>\n",
              "      <th>HLA-DRA</th>\n",
              "      <td>-37.934082</td>\n",
              "      <td>2.884188e-06</td>\n",
              "      <td>-5.272478</td>\n",
              "      <td>0.039554</td>\n",
              "      <td>0.000628</td>\n",
              "    </tr>\n",
              "    <tr>\n",
              "      <th>HLA-DQA2</th>\n",
              "      <td>-53.104008</td>\n",
              "      <td>7.526898e-07</td>\n",
              "      <td>-5.009984</td>\n",
              "      <td>0.010322</td>\n",
              "      <td>0.000178</td>\n",
              "    </tr>\n",
              "    <tr>\n",
              "      <th>HLA-DPB1</th>\n",
              "      <td>-43.611113</td>\n",
              "      <td>1.652882e-06</td>\n",
              "      <td>-4.356583</td>\n",
              "      <td>0.022668</td>\n",
              "      <td>0.000384</td>\n",
              "    </tr>\n",
              "    <tr>\n",
              "      <th>...</th>\n",
              "      <td>...</td>\n",
              "      <td>...</td>\n",
              "      <td>...</td>\n",
              "      <td>...</td>\n",
              "      <td>...</td>\n",
              "    </tr>\n",
              "    <tr>\n",
              "      <th>SVIL</th>\n",
              "      <td>inf</td>\n",
              "      <td>0.000000e+00</td>\n",
              "      <td>1.584963</td>\n",
              "      <td>0.000000</td>\n",
              "      <td>0.000000</td>\n",
              "    </tr>\n",
              "    <tr>\n",
              "      <th>GPR146</th>\n",
              "      <td>inf</td>\n",
              "      <td>0.000000e+00</td>\n",
              "      <td>2.0</td>\n",
              "      <td>0.000000</td>\n",
              "      <td>0.000000</td>\n",
              "    </tr>\n",
              "    <tr>\n",
              "      <th>KMT2B</th>\n",
              "      <td>inf</td>\n",
              "      <td>0.000000e+00</td>\n",
              "      <td>2.0</td>\n",
              "      <td>0.000000</td>\n",
              "      <td>0.000000</td>\n",
              "    </tr>\n",
              "    <tr>\n",
              "      <th>S100A4</th>\n",
              "      <td>62.029947</td>\n",
              "      <td>4.045699e-07</td>\n",
              "      <td>2.208399</td>\n",
              "      <td>0.005548</td>\n",
              "      <td>0.000097</td>\n",
              "    </tr>\n",
              "    <tr>\n",
              "      <th>CD7</th>\n",
              "      <td>42.848862</td>\n",
              "      <td>1.773449e-06</td>\n",
              "      <td>3.513879</td>\n",
              "      <td>0.024321</td>\n",
              "      <td>0.000405</td>\n",
              "    </tr>\n",
              "  </tbody>\n",
              "</table>\n",
              "<p>63 rows × 5 columns</p>\n",
              "</div>"
            ],
            "text/plain": [
              "                   t             p       lfc  p.adj.bonferroni  p.adj.bh\n",
              "index                                                                   \n",
              "LINC00926  -39.81515  2.377572e-06   -6.0268          0.032606  0.000533\n",
              "VPREB3    -39.686585  2.408465e-06 -5.994353          0.033030  0.000533\n",
              "HLA-DRA   -37.934082  2.884188e-06 -5.272478          0.039554  0.000628\n",
              "HLA-DQA2  -53.104008  7.526898e-07 -5.009984          0.010322  0.000178\n",
              "HLA-DPB1  -43.611113  1.652882e-06 -4.356583          0.022668  0.000384\n",
              "...              ...           ...       ...               ...       ...\n",
              "SVIL             inf  0.000000e+00  1.584963          0.000000  0.000000\n",
              "GPR146           inf  0.000000e+00       2.0          0.000000  0.000000\n",
              "KMT2B            inf  0.000000e+00       2.0          0.000000  0.000000\n",
              "S100A4     62.029947  4.045699e-07  2.208399          0.005548  0.000097\n",
              "CD7        42.848862  1.773449e-06  3.513879          0.024321  0.000405\n",
              "\n",
              "[63 rows x 5 columns]"
            ]
          },
          "metadata": {},
          "execution_count": 36
        }
      ],
      "metadata": {
        "id": "xirIOEPpqfuZ"
      }
    },
    {
      "cell_type": "markdown",
      "source": [
        "For example, CD7 is a gene found on T cells, whereas HLA genes are found on B cells."
      ],
      "metadata": {
        "id": "O7tq8TOn16_y"
      }
    },
    {
      "cell_type": "code",
      "execution_count": null,
      "source": [],
      "outputs": [],
      "metadata": {
        "id": "SkWUnvux2CXX"
      }
    }
  ]
}